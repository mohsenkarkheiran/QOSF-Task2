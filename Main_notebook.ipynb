{
 "cells": [
  {
   "cell_type": "code",
   "execution_count": 40,
   "id": "4b934774-d6c6-46c6-b98d-26a549cd135c",
   "metadata": {
    "jp-MarkdownHeadingCollapsed": true
   },
   "outputs": [],
   "source": [
    "import pennylane as qml\n",
    "import pennylane.numpy as np\n",
    "from pennylane.pauli import PauliWord, PauliSentence\n",
    "from pennylane.drawer import tape_mpl\n",
    "import matplotlib as plt\n",
    "import pandas as pd\n",
    "\n",
    "import warnings\n",
    "warnings.filterwarnings(\"ignore\")"
   ]
  },
  {
   "cell_type": "markdown",
   "id": "3518ebd4-4d8d-41ce-82b8-7225c37b672f",
   "metadata": {},
   "source": [
    "## Step one: Add noise \n",
    "\n",
    "A standard way to represent the noise in a quantum circuit is through Pauli operators ($\\sigma_x, \\sigma_y, \\sigma_z$). Build a function with input $\\alpha$, $\\beta$ and QuantumCircuit where:\n",
    "\n",
    "$\\alpha$  → Probability of having a random Pauli operator acting on the qubit after a one-qubit gate \n",
    "\n",
    "$\\beta$  → Probability of having a random Pauli operator acting on the qubit after a two-qubit gate \n",
    "\n",
    "QuantumCircuit → Quantum circuit where the noise will be added \n",
    "\n",
    "The output should be the Quantum Circuit with Noise \n"
   ]
  },
  {
   "cell_type": "markdown",
   "id": "e628d95a",
   "metadata": {},
   "source": [
    "There is a module qml.add_noise in pennylane to simulate noise. But I preferred to write the code from scratch:"
   ]
  },
  {
   "cell_type": "code",
   "execution_count": 8,
   "id": "767f887a",
   "metadata": {},
   "outputs": [],
   "source": [
    "def noisy_QC(alpha, beta, QC):\n",
    "    \n",
    "    # Extract the information about the QC:\n",
    "    t = QC.tape \n",
    "    ops  = t.operations\n",
    "    obs  = t.observables\n",
    "    mes  = t.measurements\n",
    "    \n",
    "    \n",
    "    with qml.tape.QuantumTape() as tape_new: \n",
    "        for g in ops:      \n",
    "            qml.apply(g)\n",
    "            if len(g.wires) == 1: #1-qbit gate noise\n",
    "                w = g.wires[0]\n",
    "                paulis = ['X','Y','Z']\n",
    "                choice = np.random.randint(2)\n",
    "                noise =  PauliSentence({PauliWord({0:'I'}): np.sqrt((1-alpha)), \n",
    "                                        PauliWord({0:paulis[choice]}): np.sqrt(alpha) })\n",
    "                U_noise = noise.to_mat()\n",
    "                qml.QubitUnitary(U_noise,wires = w, id = 'Alpha')\n",
    "            \n",
    "        \n",
    "            elif len(g.wires) == 2: #2-qbit gate noise\n",
    "                w = g.wires[1]\n",
    "                paulis = ['X','Y','Z']\n",
    "                choice = np.random.randint(2)\n",
    "                noise =  PauliSentence({PauliWord({0:'I'}): np.sqrt(1-beta), \n",
    "                                        PauliWord({0:paulis[choice]}): np.sqrt(beta) })\n",
    "                U_noise = noise.to_mat()\n",
    "                qml.QubitUnitary(U_noise,wires = w, id = 'Beta')\n",
    "        \n",
    "        [qml.apply(mes[i]) for i in range(len(mes))]\n",
    "    \n",
    "    return tape_new"
   ]
  },
  {
   "cell_type": "markdown",
   "id": "c647e8f0",
   "metadata": {},
   "source": [
    "Consdier the follwing example circuite and let's check how adding noisy gates works:"
   ]
  },
  {
   "cell_type": "code",
   "execution_count": 10,
   "id": "f126907c",
   "metadata": {},
   "outputs": [],
   "source": [
    "dev_test = qml.device('default.qubit', wires=4)\n",
    "@qml.qnode(dev_test)\n",
    "\n",
    "def circuit(x, y):\n",
    "    qml.RX(x[0], wires=0)\n",
    "    qml.Toffoli(wires=(0, 1, 2))\n",
    "    qml.CRY(x[0], wires=(1, 0))\n",
    "    qml.Rot(x[2], x[3], y, wires=0)\n",
    "    qml.PauliZ(2)\n",
    "    return qml.state()\n",
    "\n",
    "x = np.array([0.05, 0.1, 0.8, 0.3], requires_grad=True)\n",
    "y = np.array(0.4, requires_grad=False)\n",
    "\n"
   ]
  },
  {
   "cell_type": "code",
   "execution_count": 12,
   "id": "3078c928",
   "metadata": {},
   "outputs": [
    {
     "name": "stdout",
     "output_type": "stream",
     "text": [
      "(<Figure size 700x400 with 1 Axes>, <Axes: >)\n"
     ]
    },
    {
     "data": {
      "image/png": "[encoded data removed]",
      "text/plain": [
       "<Figure size 700x400 with 1 Axes>"
      ]
     },
     "metadata": {},
     "output_type": "display_data"
    }
   ],
   "source": [
    "x = np.array([0.05, 0.1, 0.8, 0.3], requires_grad=True)\n",
    "y = np.array(0.4, requires_grad=False)\n",
    "\n",
    "print(qml.draw_mpl(circuit)(x, y))"
   ]
  },
  {
   "cell_type": "code",
   "execution_count": 14,
   "id": "6cc2e57e",
   "metadata": {},
   "outputs": [
    {
     "name": "stderr",
     "output_type": "stream",
     "text": [
      "/var/folders/94/tm2kp09x4vs6xb2y11f7qjjm0000gn/T/ipykernel_48329/115943239.py:10: UserWarning: FigureCanvasAgg is non-interactive, and thus cannot be shown\n",
      "  fig.show()\n"
     ]
    },
    {
     "data": {
      "image/png": "[encoded data removed]",
      "text/plain": [
       "<Figure size 1000x400 with 1 Axes>"
      ]
     },
     "metadata": {},
     "output_type": "display_data"
    }
   ],
   "source": [
    "x = np.array([0.05, 0.1, 0.8, 0.3], requires_grad=True)\n",
    "y = np.array(0.4, requires_grad=False)\n",
    "\n",
    "test = circuit(x, y)\n",
    "\n",
    "\n",
    "tape_noisy = noisy_QC(alpha = 0.7, beta = 0.12, QC = circuit)\n",
    "\n",
    "fig, ax = tape_mpl(tape_noisy)\n",
    "fig.show()\n",
    "\n"
   ]
  },
  {
   "cell_type": "markdown",
   "id": "b27b6d16",
   "metadata": {},
   "source": [
    "## Step Two: Gate decomposition and Arrpoximation\n",
    "Gate Basis \n",
    "\n",
    "Quantum computers can implement only a set of gates that, with transformations, can represent any other possible gate. This set of gates is called the Gate Basis of the QPU. Build a function that transforms a general Quantum Circuit to the following gate basis: {CX,ID,RZ,SX,X}\n"
   ]
  },
  {
   "cell_type": "markdown",
   "id": "6895a514",
   "metadata": {},
   "source": [
    "I used the buit_in module for Solovay-Kitaev decomposition. It turns out there is a bug in pennylanes module.\n",
    "It is said that the code first decomposes the the 1-qbit gates to {H, S, SX, X, T etc} and then use Solovay-Kitaev to find an apporximation for RZ gates. However the module, for single qbits part, uses another module that doesn't work with \"SX\" as basis.\n",
    "Since writing the code from scratch could take too long, I decided to use {S, H, X} basis for single qbit gates. \n",
    "In principle, one can replace the H-gates with SX and S. And S gates with RZ and a phase. So it wouldn't be hard to modify this ..."
   ]
  },
  {
   "cell_type": "code",
   "execution_count": 19,
   "id": "cffdf7c7",
   "metadata": {},
   "outputs": [],
   "source": [
    "def decomposed_circuit(circ): \n",
    "    \n",
    "    basis = ('I','S','H','X')\n",
    "    \n",
    "    return qml.transforms.clifford_t_decomposition(circ,epsilon=0.01, method = 'sk', basis_set = basis )\n"
   ]
  },
  {
   "cell_type": "markdown",
   "id": "0f4870dc",
   "metadata": {},
   "source": [
    "## Step Three: Quantum Adder\n",
    "Adding two numbers with a quantum computer\n",
    "\n",
    "I'll build a function (quantum_sum) to add two numbers using the Draper adder algorithm. You will need the Quantum Fourier Transform (QFT). Many libraries offer a function to use it. For this task, I will build QFT from scratch.\n"
   ]
  },
  {
   "cell_type": "markdown",
   "id": "b944719d",
   "metadata": {},
   "source": [
    "In the following code, I first tranfored numbers into binaries, then I used PaulisWord to define the initial states.\n",
    "\n",
    "In the next code, I will use QuantumStateVector."
   ]
  },
  {
   "cell_type": "code",
   "execution_count": 25,
   "id": "02abcac2",
   "metadata": {},
   "outputs": [],
   "source": [
    "\n",
    "def quantum_sum( num_x, num_y, num_qbits = 10): #num_qubits := # of qubits\n",
    "                                                #num_x and num_y the number to be added. \n",
    "                                                #only num_y will be transformed into binary series\n",
    "\n",
    "            \n",
    "    phi = 2*np.pi/(2**num_qbits)\n",
    "    \n",
    "    bin_y = bin(num_y)[2:]\n",
    "    bin_y = '0'*(num_qbits - len(bin_y)) + bin_y\n",
    "    state_y = np.array( [ int(bin_y[i]) for i in range(len(bin_y)) ] ) #This state will be fed into QFT_circuit\n",
    "\n",
    "    dev = qml.device('default.qubit',wires=num_qbits)\n",
    "    @qml.qnode(dev)\n",
    "\n",
    "    \n",
    "    def QFT_circuit (input_state, num_qbits = num_qbits): #Take the initial state as an array-like of binaries\n",
    "                                                                       #This Function is not exactly as QFT\n",
    "                                                                       #The final state have to be reordered.\n",
    "                                                                       #Reordering is done in another function\n",
    "    \n",
    "        #Preparing the initial state:\n",
    "        \n",
    "        paulidict = {0:'I', 1: 'X'}\n",
    "        initial_state = PauliWord({i: paulidict[ int(input_state[i]) ] for i in range(num_qbits) })\n",
    "        if all(input_state == 0): qml.Identity\n",
    "        else: \n",
    "            U_I = initial_state.to_mat()\n",
    "            qml.QubitUnitary(U_I ,wires = initial_state.wires) # I used this gate to deine an initial state\n",
    "                                                               # correspoinding to binary numbers.\n",
    "        \n",
    "        \n",
    "        \n",
    "         #The QFT operator:\n",
    "    \n",
    "        qml.Hadamard(wires = 0)\n",
    "        for w in range(1,num_qbits):\n",
    "            phi_w = (phi)*(input_state[w] * 2**(num_qbits - w -1))\n",
    "                \n",
    "            for crp in range(w):\n",
    "                U = np.array([[np.exp(1j*phi_w * (2**(crp))), 0  ],\n",
    "                             [0, np.exp(1j*phi_w * (2**(crp)))   ]])\n",
    "                qml.ControlledQubitUnitary(U, control_wires = crp , wires = w) \n",
    "                    \n",
    "            qml.Hadamard(w)\n",
    "    \n",
    "        return qml.state()\n",
    "    \n",
    "    def qft(state_vect, Inverse = False): #When Inverse is true, it computes the Inverse QFT.\n",
    "        st = QFT_circuit(state_vect, num_qbits)\n",
    "\n",
    "        def rev_bin(b): # This function is for reordering the output only.\n",
    "            bin_b =  bin(b)[2:]\n",
    "            bin_b = '0'*(num_qbits - len(bin_b)) + bin_b\n",
    "            binary = bin_b[::-1]\n",
    "            return int(binary, 2)\n",
    "    \n",
    "        qft0 = np.zeros(2**num_qbits, dtype=complex)\n",
    "        for i in range(2**num_qbits):\n",
    "            if Inverse:\n",
    "                qft0[rev_bin(i)] = np.conj(st[i])\n",
    "            else:\n",
    "                qft0[rev_bin(i)] = st[i]\n",
    "    \n",
    "        return qft0\n",
    "    \n",
    "    \n",
    "    state_qft_y = qft(state_y, Inverse = False)\n",
    "    \n",
    "    # The follwing state, ctrl_Z, will be given to the inverse_QFT:\n",
    "    \n",
    "    ctrl_Z = np.array([state_qft_y[i] *  np.exp(1j*phi * (i * num_x)) for i in range(2**num_qbits) ] )\n",
    "    \n",
    "    final_state = np.zeros(2**num_qbits)\n",
    "    \n",
    "    for num_z in range(2**num_qbits):\n",
    "        \n",
    "        bin_z = bin(num_z)[2:]\n",
    "        bin_z = '0'*(num_qbits - len(bin_z)) + bin_z\n",
    "        state_z = np.array( [ int(bin_z[i]) for i in range(len(bin_z)) ] )\n",
    "        \n",
    "        state_qftI_z = qft(state_z, Inverse = True)\n",
    "    \n",
    "        final_state = final_state + ctrl_Z[num_z] * state_qftI_z \n",
    "    \n",
    "    \n",
    "    return np.argmax(final_state * final_state.conj())"
   ]
  },
  {
   "cell_type": "code",
   "execution_count": 27,
   "id": "d6bd45f1",
   "metadata": {},
   "outputs": [
    {
     "data": {
      "text/plain": [
       "0"
      ]
     },
     "execution_count": 27,
     "metadata": {},
     "output_type": "execute_result"
    }
   ],
   "source": [
    "# 1+15 mod 16\n",
    "quantum_sum( num_x=15, num_y=1, num_qbits = 4)"
   ]
  },
  {
   "cell_type": "code",
   "execution_count": 29,
   "id": "692042f3",
   "metadata": {},
   "outputs": [
    {
     "data": {
      "text/plain": [
       "11"
      ]
     },
     "execution_count": 29,
     "metadata": {},
     "output_type": "execute_result"
    }
   ],
   "source": [
    "# 1+10 mod 16\n",
    "quantum_sum( num_x=10, num_y=1, num_qbits = 4)"
   ]
  },
  {
   "cell_type": "markdown",
   "id": "8c1f6532",
   "metadata": {},
   "source": [
    "#### In the table below, you see the result of quantum addition mod 16 ( 4 qubits)"
   ]
  },
  {
   "cell_type": "code",
   "execution_count": 31,
   "id": "85ce2c99",
   "metadata": {},
   "outputs": [
    {
     "data": {
      "text/html": [
       "<div>\n",
       "<style scoped>\n",
       "    .dataframe tbody tr th:only-of-type {\n",
       "        vertical-align: middle;\n",
       "    }\n",
       "\n",
       "    .dataframe tbody tr th {\n",
       "        vertical-align: top;\n",
       "    }\n",
       "\n",
       "    .dataframe thead th {\n",
       "        text-align: right;\n",
       "    }\n",
       "</style>\n",
       "<table border=\"1\" class=\"dataframe\">\n",
       "  <thead>\n",
       "    <tr style=\"text-align: right;\">\n",
       "      <th></th>\n",
       "      <th>0</th>\n",
       "      <th>1</th>\n",
       "      <th>2</th>\n",
       "      <th>3</th>\n",
       "      <th>4</th>\n",
       "      <th>5</th>\n",
       "      <th>6</th>\n",
       "      <th>7</th>\n",
       "      <th>8</th>\n",
       "      <th>9</th>\n",
       "      <th>10</th>\n",
       "      <th>11</th>\n",
       "      <th>12</th>\n",
       "      <th>13</th>\n",
       "      <th>14</th>\n",
       "      <th>15</th>\n",
       "    </tr>\n",
       "  </thead>\n",
       "  <tbody>\n",
       "    <tr>\n",
       "      <th>0</th>\n",
       "      <td>0</td>\n",
       "      <td>1</td>\n",
       "      <td>2</td>\n",
       "      <td>3</td>\n",
       "      <td>4</td>\n",
       "      <td>5</td>\n",
       "      <td>6</td>\n",
       "      <td>7</td>\n",
       "      <td>8</td>\n",
       "      <td>9</td>\n",
       "      <td>10</td>\n",
       "      <td>11</td>\n",
       "      <td>12</td>\n",
       "      <td>13</td>\n",
       "      <td>14</td>\n",
       "      <td>15</td>\n",
       "    </tr>\n",
       "    <tr>\n",
       "      <th>1</th>\n",
       "      <td>1</td>\n",
       "      <td>2</td>\n",
       "      <td>3</td>\n",
       "      <td>4</td>\n",
       "      <td>5</td>\n",
       "      <td>6</td>\n",
       "      <td>7</td>\n",
       "      <td>8</td>\n",
       "      <td>9</td>\n",
       "      <td>10</td>\n",
       "      <td>11</td>\n",
       "      <td>12</td>\n",
       "      <td>13</td>\n",
       "      <td>14</td>\n",
       "      <td>15</td>\n",
       "      <td>0</td>\n",
       "    </tr>\n",
       "    <tr>\n",
       "      <th>2</th>\n",
       "      <td>2</td>\n",
       "      <td>3</td>\n",
       "      <td>4</td>\n",
       "      <td>5</td>\n",
       "      <td>6</td>\n",
       "      <td>7</td>\n",
       "      <td>8</td>\n",
       "      <td>9</td>\n",
       "      <td>10</td>\n",
       "      <td>11</td>\n",
       "      <td>12</td>\n",
       "      <td>13</td>\n",
       "      <td>14</td>\n",
       "      <td>15</td>\n",
       "      <td>0</td>\n",
       "      <td>1</td>\n",
       "    </tr>\n",
       "    <tr>\n",
       "      <th>3</th>\n",
       "      <td>3</td>\n",
       "      <td>4</td>\n",
       "      <td>5</td>\n",
       "      <td>6</td>\n",
       "      <td>7</td>\n",
       "      <td>8</td>\n",
       "      <td>9</td>\n",
       "      <td>10</td>\n",
       "      <td>11</td>\n",
       "      <td>12</td>\n",
       "      <td>13</td>\n",
       "      <td>14</td>\n",
       "      <td>15</td>\n",
       "      <td>0</td>\n",
       "      <td>1</td>\n",
       "      <td>2</td>\n",
       "    </tr>\n",
       "    <tr>\n",
       "      <th>4</th>\n",
       "      <td>4</td>\n",
       "      <td>5</td>\n",
       "      <td>6</td>\n",
       "      <td>7</td>\n",
       "      <td>8</td>\n",
       "      <td>9</td>\n",
       "      <td>10</td>\n",
       "      <td>11</td>\n",
       "      <td>12</td>\n",
       "      <td>13</td>\n",
       "      <td>14</td>\n",
       "      <td>15</td>\n",
       "      <td>0</td>\n",
       "      <td>1</td>\n",
       "      <td>2</td>\n",
       "      <td>3</td>\n",
       "    </tr>\n",
       "    <tr>\n",
       "      <th>5</th>\n",
       "      <td>5</td>\n",
       "      <td>6</td>\n",
       "      <td>7</td>\n",
       "      <td>8</td>\n",
       "      <td>9</td>\n",
       "      <td>10</td>\n",
       "      <td>11</td>\n",
       "      <td>12</td>\n",
       "      <td>13</td>\n",
       "      <td>14</td>\n",
       "      <td>15</td>\n",
       "      <td>0</td>\n",
       "      <td>1</td>\n",
       "      <td>2</td>\n",
       "      <td>3</td>\n",
       "      <td>4</td>\n",
       "    </tr>\n",
       "    <tr>\n",
       "      <th>6</th>\n",
       "      <td>6</td>\n",
       "      <td>7</td>\n",
       "      <td>8</td>\n",
       "      <td>9</td>\n",
       "      <td>10</td>\n",
       "      <td>11</td>\n",
       "      <td>12</td>\n",
       "      <td>13</td>\n",
       "      <td>14</td>\n",
       "      <td>15</td>\n",
       "      <td>0</td>\n",
       "      <td>1</td>\n",
       "      <td>2</td>\n",
       "      <td>3</td>\n",
       "      <td>4</td>\n",
       "      <td>5</td>\n",
       "    </tr>\n",
       "    <tr>\n",
       "      <th>7</th>\n",
       "      <td>7</td>\n",
       "      <td>8</td>\n",
       "      <td>9</td>\n",
       "      <td>10</td>\n",
       "      <td>11</td>\n",
       "      <td>12</td>\n",
       "      <td>13</td>\n",
       "      <td>14</td>\n",
       "      <td>15</td>\n",
       "      <td>0</td>\n",
       "      <td>1</td>\n",
       "      <td>2</td>\n",
       "      <td>3</td>\n",
       "      <td>4</td>\n",
       "      <td>5</td>\n",
       "      <td>6</td>\n",
       "    </tr>\n",
       "    <tr>\n",
       "      <th>8</th>\n",
       "      <td>8</td>\n",
       "      <td>9</td>\n",
       "      <td>10</td>\n",
       "      <td>11</td>\n",
       "      <td>12</td>\n",
       "      <td>13</td>\n",
       "      <td>14</td>\n",
       "      <td>15</td>\n",
       "      <td>0</td>\n",
       "      <td>1</td>\n",
       "      <td>2</td>\n",
       "      <td>3</td>\n",
       "      <td>4</td>\n",
       "      <td>5</td>\n",
       "      <td>6</td>\n",
       "      <td>7</td>\n",
       "    </tr>\n",
       "    <tr>\n",
       "      <th>9</th>\n",
       "      <td>9</td>\n",
       "      <td>10</td>\n",
       "      <td>11</td>\n",
       "      <td>12</td>\n",
       "      <td>13</td>\n",
       "      <td>14</td>\n",
       "      <td>15</td>\n",
       "      <td>0</td>\n",
       "      <td>1</td>\n",
       "      <td>2</td>\n",
       "      <td>3</td>\n",
       "      <td>4</td>\n",
       "      <td>5</td>\n",
       "      <td>6</td>\n",
       "      <td>7</td>\n",
       "      <td>8</td>\n",
       "    </tr>\n",
       "    <tr>\n",
       "      <th>10</th>\n",
       "      <td>10</td>\n",
       "      <td>11</td>\n",
       "      <td>12</td>\n",
       "      <td>13</td>\n",
       "      <td>14</td>\n",
       "      <td>15</td>\n",
       "      <td>0</td>\n",
       "      <td>1</td>\n",
       "      <td>2</td>\n",
       "      <td>3</td>\n",
       "      <td>4</td>\n",
       "      <td>5</td>\n",
       "      <td>6</td>\n",
       "      <td>7</td>\n",
       "      <td>8</td>\n",
       "      <td>9</td>\n",
       "    </tr>\n",
       "    <tr>\n",
       "      <th>11</th>\n",
       "      <td>11</td>\n",
       "      <td>12</td>\n",
       "      <td>13</td>\n",
       "      <td>14</td>\n",
       "      <td>15</td>\n",
       "      <td>0</td>\n",
       "      <td>1</td>\n",
       "      <td>2</td>\n",
       "      <td>3</td>\n",
       "      <td>4</td>\n",
       "      <td>5</td>\n",
       "      <td>6</td>\n",
       "      <td>7</td>\n",
       "      <td>8</td>\n",
       "      <td>9</td>\n",
       "      <td>10</td>\n",
       "    </tr>\n",
       "    <tr>\n",
       "      <th>12</th>\n",
       "      <td>12</td>\n",
       "      <td>13</td>\n",
       "      <td>14</td>\n",
       "      <td>15</td>\n",
       "      <td>0</td>\n",
       "      <td>1</td>\n",
       "      <td>2</td>\n",
       "      <td>3</td>\n",
       "      <td>4</td>\n",
       "      <td>5</td>\n",
       "      <td>6</td>\n",
       "      <td>7</td>\n",
       "      <td>8</td>\n",
       "      <td>9</td>\n",
       "      <td>10</td>\n",
       "      <td>11</td>\n",
       "    </tr>\n",
       "    <tr>\n",
       "      <th>13</th>\n",
       "      <td>13</td>\n",
       "      <td>14</td>\n",
       "      <td>15</td>\n",
       "      <td>0</td>\n",
       "      <td>1</td>\n",
       "      <td>2</td>\n",
       "      <td>3</td>\n",
       "      <td>4</td>\n",
       "      <td>5</td>\n",
       "      <td>6</td>\n",
       "      <td>7</td>\n",
       "      <td>8</td>\n",
       "      <td>9</td>\n",
       "      <td>10</td>\n",
       "      <td>11</td>\n",
       "      <td>12</td>\n",
       "    </tr>\n",
       "    <tr>\n",
       "      <th>14</th>\n",
       "      <td>14</td>\n",
       "      <td>15</td>\n",
       "      <td>0</td>\n",
       "      <td>1</td>\n",
       "      <td>2</td>\n",
       "      <td>3</td>\n",
       "      <td>4</td>\n",
       "      <td>5</td>\n",
       "      <td>6</td>\n",
       "      <td>7</td>\n",
       "      <td>8</td>\n",
       "      <td>9</td>\n",
       "      <td>10</td>\n",
       "      <td>11</td>\n",
       "      <td>12</td>\n",
       "      <td>13</td>\n",
       "    </tr>\n",
       "    <tr>\n",
       "      <th>15</th>\n",
       "      <td>15</td>\n",
       "      <td>0</td>\n",
       "      <td>1</td>\n",
       "      <td>2</td>\n",
       "      <td>3</td>\n",
       "      <td>4</td>\n",
       "      <td>5</td>\n",
       "      <td>6</td>\n",
       "      <td>7</td>\n",
       "      <td>8</td>\n",
       "      <td>9</td>\n",
       "      <td>10</td>\n",
       "      <td>11</td>\n",
       "      <td>12</td>\n",
       "      <td>13</td>\n",
       "      <td>14</td>\n",
       "    </tr>\n",
       "  </tbody>\n",
       "</table>\n",
       "</div>"
      ],
      "text/plain": [
       "    0   1   2   3   4   5   6   7   8   9   10  11  12  13  14  15\n",
       "0    0   1   2   3   4   5   6   7   8   9  10  11  12  13  14  15\n",
       "1    1   2   3   4   5   6   7   8   9  10  11  12  13  14  15   0\n",
       "2    2   3   4   5   6   7   8   9  10  11  12  13  14  15   0   1\n",
       "3    3   4   5   6   7   8   9  10  11  12  13  14  15   0   1   2\n",
       "4    4   5   6   7   8   9  10  11  12  13  14  15   0   1   2   3\n",
       "5    5   6   7   8   9  10  11  12  13  14  15   0   1   2   3   4\n",
       "6    6   7   8   9  10  11  12  13  14  15   0   1   2   3   4   5\n",
       "7    7   8   9  10  11  12  13  14  15   0   1   2   3   4   5   6\n",
       "8    8   9  10  11  12  13  14  15   0   1   2   3   4   5   6   7\n",
       "9    9  10  11  12  13  14  15   0   1   2   3   4   5   6   7   8\n",
       "10  10  11  12  13  14  15   0   1   2   3   4   5   6   7   8   9\n",
       "11  11  12  13  14  15   0   1   2   3   4   5   6   7   8   9  10\n",
       "12  12  13  14  15   0   1   2   3   4   5   6   7   8   9  10  11\n",
       "13  13  14  15   0   1   2   3   4   5   6   7   8   9  10  11  12\n",
       "14  14  15   0   1   2   3   4   5   6   7   8   9  10  11  12  13\n",
       "15  15   0   1   2   3   4   5   6   7   8   9  10  11  12  13  14"
      ]
     },
     "execution_count": 31,
     "metadata": {},
     "output_type": "execute_result"
    }
   ],
   "source": [
    "df = pd.DataFrame(columns = [i for i in range(16)], index = [i for i in range(16)])\n",
    "for indx in range(df.shape[0]):\n",
    "    for cn in range(df.shape[1]):\n",
    "        df.iloc[indx,cn] = quantum_sum( num_x=indx, num_y=cn, num_qbits = 4)\n",
    "df"
   ]
  },
  {
   "cell_type": "markdown",
   "id": "ef565598",
   "metadata": {},
   "source": [
    "## Step Four: Noise effect\n",
    "\n",
    "Now, we can combine all the functions. Transform the circuit used in the quantum_sum to the gate basis and add noise. Use different levels of noise and analyze the results. \n",
    "\n",
    "How does the noise affect the results? \\\n",
    "Is there a way to decrease the effect of noise? \\\n",
    "How does the number of gates used affect the results? \n"
   ]
  },
  {
   "cell_type": "code",
   "execution_count": 36,
   "id": "f5cb57f5",
   "metadata": {},
   "outputs": [],
   "source": [
    "def noisy_adder(num_x, num_y, num_qbits, alpha, beta):\n",
    "    \n",
    "    phi = 2*np.pi/(2**num_qbits)\n",
    "    \n",
    "    bin_y = bin(num_y)[2:]\n",
    "    bin_y = '0'*(num_qbits - len(bin_y)) + bin_y\n",
    "    state_y = np.array( [ int(bin_y[i]) for i in range(len(bin_y)) ] ) #This state will be fed into QFT_circuit\n",
    "\n",
    "    dev = qml.device('default.qubit',wires=num_qbits)\n",
    "    @qml.qnode(dev)\n",
    "\n",
    "    \n",
    "    def QFT_circuit (input_state, num_qbits = num_qbits): #Take the initial state as an array-like of binaries\n",
    "                                                                       #This Function is not exactly as QFT\n",
    "                                                                       #The final state have to be reordered.\n",
    "                                                                       #Reordering is done in another function\n",
    "    \n",
    "        #Preparing the initial state:\n",
    "        \n",
    "        l = len(input_state)\n",
    "        initial_state = np.zeros(2**l, dtype = complex)\n",
    "        ind = 0\n",
    "        state_y\n",
    "        for i in range(l):\n",
    "            ind += input_state[i]*(2** (l - i -1 ) )\n",
    "        \n",
    "        initial_state[int(ind)] = 1.0 + 0.0*1j\n",
    "        qml.QubitStateVector(initial_state, wires=[i for i in range(num_qbits)])\n",
    "        \n",
    "        \n",
    "        \n",
    "         #The QFT operator:\n",
    "    \n",
    "        qml.Hadamard(wires = 0)\n",
    "        for w in range(1,num_qbits):\n",
    "            phi_w = (phi)*(input_state[w] * 2**(num_qbits - w -1))\n",
    "                \n",
    "            for crp in range(w):\n",
    "                U = np.array([[np.exp(1j*phi_w * (2**(crp))), 0  ],\n",
    "                             [0, np.exp(1j*phi_w * (2**(crp)))   ]])\n",
    "                qml.ControlledQubitUnitary(U, control_wires = crp , wires = w) \n",
    "                    \n",
    "            qml.Hadamard(w)\n",
    "    \n",
    "        return qml.state()\n",
    "    \n",
    "    ST_QFT = decomposed_circuit(QFT_circuit)\n",
    "    \n",
    "        \n",
    "    def qft(state_vect, Inverse = False): #When Inverse is true, it computes the Inverse QFT.\n",
    "        test = ST_QFT(state_vect)\n",
    "        noisy_QFT = noisy_QC(alpha = alpha, beta = beta , QC = ST_QFT)\n",
    "        \n",
    "        st = qml.execute([noisy_QFT],dev)[0]\n",
    "\n",
    "        def rev_bin(b): # This function is for reordering the output only.\n",
    "            bin_b =  bin(b)[2:]\n",
    "            bin_b = '0'*(num_qbits - len(bin_b)) + bin_b\n",
    "            binary = bin_b[::-1]\n",
    "            return int(binary, 2)\n",
    "    \n",
    "        qft0 = np.zeros(2**num_qbits, dtype=complex)\n",
    "        for i in range(2**num_qbits):\n",
    "            if Inverse:\n",
    "                qft0[rev_bin(i)] = np.conj(st[i])\n",
    "            else:\n",
    "                qft0[rev_bin(i)] = st[i]\n",
    "    \n",
    "        return qft0\n",
    "    \n",
    "    \n",
    "    state_qft_y = qft(state_y, Inverse = False)\n",
    "    \n",
    "    # The follwing state, ctrl_Z, will be given to the inverse_QFT:\n",
    "    \n",
    "    ctrl_Z = np.array([state_qft_y[i] *  np.exp(1j*phi * (i * num_x)) for i in range(2**num_qbits) ] )\n",
    "    \n",
    "    final_state = np.zeros(2**num_qbits)\n",
    "    \n",
    "    for num_z in range(2**num_qbits):\n",
    "        \n",
    "        bin_z = bin(num_z)[2:]\n",
    "        bin_z = '0'*(num_qbits - len(bin_z)) + bin_z\n",
    "        state_z = np.array( [ int(bin_z[i]) for i in range(len(bin_z)) ] )\n",
    "        \n",
    "        state_qftI_z = qft(state_z, Inverse = True)\n",
    "    \n",
    "        final_state = final_state + ctrl_Z[num_z] * state_qftI_z \n",
    "    \n",
    "    res = np.argmax(final_state * final_state.conj())\n",
    "    \n",
    "    tape = ST_QFT.tape\n",
    "    num_gates = len(tape.operations)\n",
    "    return res, num_gates"
   ]
  },
  {
   "cell_type": "code",
   "execution_count": 42,
   "id": "6cf6638b",
   "metadata": {},
   "outputs": [
    {
     "data": {
      "text/plain": [
       "(6, 7)"
      ]
     },
     "execution_count": 42,
     "metadata": {},
     "output_type": "execute_result"
    }
   ],
   "source": [
    "# 2+4 mod 8 with noise\n",
    "noisy_adder(num_x=2, num_y=4, num_qbits=3, alpha=0.001, beta=0.001)"
   ]
  },
  {
   "cell_type": "code",
   "execution_count": 44,
   "id": "8a1e03d1",
   "metadata": {},
   "outputs": [
    {
     "data": {
      "text/plain": [
       "[6, 6, 6, 6, 6, 6, 6, 7, 3, 7]"
      ]
     },
     "execution_count": 44,
     "metadata": {},
     "output_type": "execute_result"
    }
   ],
   "source": [
    "alpha_effect = []\n",
    "for i in range(10):\n",
    "    res = noisy_adder(num_x=2, num_y=4, num_qbits=3, alpha=0.00 + 0.05*i, beta=0.001)[0]\n",
    "    alpha_effect.append(res)\n",
    "alpha_effect"
   ]
  },
  {
   "cell_type": "code",
   "execution_count": 46,
   "id": "411cc34f",
   "metadata": {},
   "outputs": [
    {
     "data": {
      "text/plain": [
       "[(6, 7),\n",
       " (6, 7),\n",
       " (6, 7),\n",
       " (0, 7),\n",
       " (0, 7),\n",
       " (0, 7),\n",
       " (2, 7),\n",
       " (1, 7),\n",
       " (1, 7),\n",
       " (4, 7)]"
      ]
     },
     "execution_count": 46,
     "metadata": {},
     "output_type": "execute_result"
    }
   ],
   "source": [
    "beta_effect = []\n",
    "for i in range(10):\n",
    "    res = noisy_adder(num_x=2, num_y=4, num_qbits=3, alpha=0.001, beta=0.00+0.05*i)\n",
    "    beta_effect.append(res)\n",
    "beta_effect"
   ]
  },
  {
   "cell_type": "code",
   "execution_count": 48,
   "id": "9655c120",
   "metadata": {},
   "outputs": [],
   "source": [
    "beta_effect_r = [beta_effect[i][0] for i in range(10)]"
   ]
  },
  {
   "cell_type": "code",
   "execution_count": 50,
   "id": "31500369",
   "metadata": {},
   "outputs": [
    {
     "data": {
      "image/png": "[encoded data removed]",
      "text/plain": [
       "<Figure size 640x480 with 1 Axes>"
      ]
     },
     "metadata": {},
     "output_type": "display_data"
    }
   ],
   "source": [
    "import matplotlib.pyplot as plt\n",
    "\n",
    "#plt.figure(figsize = (17,5))\n",
    "\n",
    "#plt.subplot(131)\n",
    "plt.plot(range(10), alpha_effect, label = 'Alpha noise effect')\n",
    "plt.plot(range(10),beta_effect_r, label = 'Beta noise effect')\n",
    "plt.legend()\n",
    "plt.xlabel('Noise probability [0.05 steps]')\n",
    "plt.ylabel('Result')\n",
    "plt.title('The effect of noise on Quantum_sum(2+4) accuracy (3 Qbits)')\n",
    "\n",
    "plt.show()"
   ]
  },
  {
   "cell_type": "markdown",
   "id": "564d38de",
   "metadata": {},
   "source": [
    "### The effect of noises on the accuracy of the quantum circuit is shown on this graph"
   ]
  },
  {
   "cell_type": "markdown",
   "id": "87e7da3f",
   "metadata": {},
   "source": [
    "The follwoign part is too slow on my computer. I had to interrupt the kernel after a while. But it generated enough data: \n",
    "### Please check end of the file."
   ]
  },
  {
   "cell_type": "code",
   "execution_count": 52,
   "id": "04a491e8",
   "metadata": {},
   "outputs": [
    {
     "data": {
      "text/plain": [
       "[0.284862756729126, 57.56048011779785, 213.88656377792358, 1111.6123750209808]"
      ]
     },
     "execution_count": 52,
     "metadata": {},
     "output_type": "execute_result"
    }
   ],
   "source": [
    "import time\n",
    "\n",
    "gate_effect = []\n",
    "gate_time = []\n",
    "for i in range(4):\n",
    "    start = time.time()\n",
    "    res = noisy_adder(num_x=2, num_y=1, num_qbits=2+i, alpha=0.001, beta=0.001)\n",
    "    end = time.time()\n",
    "    gate_time.append(end-start)\n",
    "    beta_effect.append(res)\n",
    "gate_effect\n",
    "gate_time"
   ]
  },
  {
   "cell_type": "code",
   "execution_count": 54,
   "id": "4857ec79",
   "metadata": {},
   "outputs": [
    {
     "data": {
      "text/plain": [
       "[(3, 4), (3, 7), (3, 11), (3, 16)]"
      ]
     },
     "execution_count": 54,
     "metadata": {},
     "output_type": "execute_result"
    }
   ],
   "source": [
    "gate_effect = beta_effect[-4:]\n",
    "gate_effect"
   ]
  },
  {
   "cell_type": "code",
   "execution_count": 56,
   "id": "b2dc1524",
   "metadata": {},
   "outputs": [
    {
     "data": {
      "image/png": "[encoded data removed]",
      "text/plain": [
       "<Figure size 1200x600 with 2 Axes>"
      ]
     },
     "metadata": {},
     "output_type": "display_data"
    }
   ],
   "source": [
    "plt.figure(figsize = (12,6))\n",
    "\n",
    "\n",
    "plt.subplot(121)\n",
    "plt.plot( [gate_effect[i][1] for i in range(4)], gate_time )\n",
    "plt.xlabel('Number of Gates')\n",
    "plt.ylabel('Time(s)')\n",
    "plt.title('Effect of Gate number in timing')\n",
    "\n",
    "plt.subplot(122)\n",
    "plt.plot(range(2,6), [gate_effect[i][1] for i in range(4)] )\n",
    "plt.ylabel('Number of Gates')\n",
    "plt.xlabel('Number of Qbits')\n",
    "\n",
    "plt.show()\n",
    "\n"
   ]
  },
  {
   "cell_type": "markdown",
   "id": "0b0e3c73",
   "metadata": {},
   "source": [
    "### These graphs shows time needed to complete the computaion grows exponentially in term of number of gates. \n",
    "### The growth in number of gates is almost linear relative to the number of Qbits"
   ]
  },
  {
   "cell_type": "markdown",
   "id": "7b51bc6a",
   "metadata": {},
   "source": [
    "#### The noise caused by Z corresponds to phase flip and the noise caused by X is the bir flip error. Y is combination of both.\n",
    "#### It is possible generally to use error correction codes to reduce the effect of these errors"
   ]
  },
  {
   "cell_type": "code",
   "execution_count": null,
   "id": "5fba52c7",
   "metadata": {},
   "outputs": [],
   "source": []
  }
 ],
 "metadata": {
  "kernelspec": {
   "display_name": "Python [conda env:base] *",
   "language": "python",
   "name": "conda-base-py"
  },
  "language_info": {
   "codemirror_mode": {
    "name": "ipython",
    "version": 3
   },
   "file_extension": ".py",
   "mimetype": "text/x-python",
   "name": "python",
   "nbconvert_exporter": "python",
   "pygments_lexer": "ipython3",
   "version": "3.11.4"
  }
 },
 "nbformat": 4,
 "nbformat_minor": 5
}
