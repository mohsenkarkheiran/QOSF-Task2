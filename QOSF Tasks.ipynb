{
 "cells": [
  {
   "cell_type": "markdown",
   "id": "0c86c0ea",
   "metadata": {},
   "source": [
    "# Task 2\n",
    "\n",
    "### Step one: \n",
    "\n",
    "A standard way to represent the noise in a quantum circuit is through Pauli operators ($\\sigma_x, \\sigma_y, \\sigma_z$). Build a function with input $\\alpha$, $\\beta$ and QuantumCircuit where:\n",
    "\n",
    "$\\alpha$  → Probability of having a random Pauli operator acting on the qubit after a one-qubit gate \n",
    "\n",
    "$\\beta$  → Probability of having a random Pauli operator acting on the qubit after a two-qubit gate \n",
    "\n",
    "QuantumCircuit → Quantum circuit where the noise will be added \n",
    "\n",
    "The output should be the Quantum Circuit with Noise \n"
   ]
  },
  {
   "cell_type": "code",
   "execution_count": 1,
   "id": "7c056974",
   "metadata": {},
   "outputs": [],
   "source": [
    "import pennylane as qml\n",
    "import pennylane.numpy as np\n",
    "from pennylane.pauli import PauliWord, PauliSentence\n",
    "from pennylane.drawer import tape_mpl\n",
    "import matplotlib as plt\n",
    "import pandas as pd"
   ]
  },
  {
   "cell_type": "markdown",
   "id": "e628d95a",
   "metadata": {},
   "source": [
    "There is a module qml.add_noise in pennylane to simulate noise. But I preferred to write the code from scratch:"
   ]
  },
  {
   "cell_type": "code",
   "execution_count": 105,
   "id": "767f887a",
   "metadata": {},
   "outputs": [],
   "source": [
    "def noisy_QC(alpha, beta, QC):\n",
    "    \n",
    "    # Extract the information about the QC:\n",
    "    t = QC.tape \n",
    "    ops  = t.operations\n",
    "    obs  = t.observables\n",
    "    mes  = t.measurements\n",
    "    \n",
    "    \n",
    "    with qml.tape.QuantumTape() as tape_new: \n",
    "        for g in ops:      \n",
    "            qml.apply(g)\n",
    "            if len(g.wires) == 1: #1-qbit gate noise\n",
    "                w = g.wires[0]\n",
    "                paulis = ['X','Y','Z']\n",
    "                choice = np.random.randint(2)\n",
    "                noise =  PauliSentence({PauliWord({0:'I'}): np.sqrt((1-alpha)), \n",
    "                                        PauliWord({0:paulis[choice]}): np.sqrt(alpha) })\n",
    "                U_noise = noise.to_mat()\n",
    "                qml.QubitUnitary(U_noise,wires = w, id = 'Alpha')\n",
    "            \n",
    "        \n",
    "            elif len(g.wires) == 2: #2-qbit gate noise\n",
    "                w = g.wires[1]\n",
    "                paulis = ['X','Y','Z']\n",
    "                choice = np.random.randint(2)\n",
    "                noise =  PauliSentence({PauliWord({0:'I'}): np.sqrt(1-beta), \n",
    "                                        PauliWord({0:paulis[choice]}): np.sqrt(beta) })\n",
    "                U_noise = noise.to_mat()\n",
    "                qml.QubitUnitary(U_noise,wires = w, id = 'Beta')\n",
    "        \n",
    "        [qml.apply(mes[i]) for i in range(len(mes))]\n",
    "    \n",
    "    return tape_new"
   ]
  },
  {
   "cell_type": "markdown",
   "id": "c647e8f0",
   "metadata": {},
   "source": [
    "Consdier the follwing example circuite and let's checl how adding noisy gates works:"
   ]
  },
  {
   "cell_type": "code",
   "execution_count": 102,
   "id": "f126907c",
   "metadata": {},
   "outputs": [],
   "source": [
    "dev_test = qml.device('default.qubit', wires=4)\n",
    "@qml.qnode(dev_test)\n",
    "\n",
    "def circuit(x, y):\n",
    "    qml.RX(x[0], wires=0)\n",
    "    qml.Toffoli(wires=(0, 1, 2))\n",
    "    qml.CRY(x[0], wires=(1, 0))\n",
    "    qml.Rot(x[2], x[3], y, wires=0)\n",
    "    qml.PauliZ(2)\n",
    "    return qml.state()\n",
    "\n",
    "x = np.array([0.05, 0.1, 0.8, 0.3], requires_grad=True)\n",
    "y = np.array(0.4, requires_grad=False)\n",
    "\n"
   ]
  },
  {
   "cell_type": "code",
   "execution_count": 103,
   "id": "3078c928",
   "metadata": {},
   "outputs": [
    {
     "name": "stdout",
     "output_type": "stream",
     "text": [
      "(<Figure size 700x400 with 1 Axes>, <Axes: >)\n"
     ]
    },
    {
     "data": {
      "image/png": "[encoded data removed]",
      "text/plain": [
       "<Figure size 700x400 with 1 Axes>"
      ]
     },
     "metadata": {},
     "output_type": "display_data"
    }
   ],
   "source": [
    "x = np.array([0.05, 0.1, 0.8, 0.3], requires_grad=True)\n",
    "y = np.array(0.4, requires_grad=False)\n",
    "\n",
    "print(qml.draw_mpl(circuit)(x, y))"
   ]
  },
  {
   "cell_type": "code",
   "execution_count": 104,
   "id": "6cc2e57e",
   "metadata": {},
   "outputs": [
    {
     "name": "stderr",
     "output_type": "stream",
     "text": [
      "/var/folders/94/tm2kp09x4vs6xb2y11f7qjjm0000gn/T/ipykernel_51312/115943239.py:10: UserWarning: Matplotlib is currently using module://matplotlib_inline.backend_inline, which is a non-GUI backend, so cannot show the figure.\n",
      "  fig.show()\n"
     ]
    },
    {
     "data": {
      "image/png": "[encoded data removed]",
      "text/plain": [
       "<Figure size 1000x400 with 1 Axes>"
      ]
     },
     "metadata": {},
     "output_type": "display_data"
    }
   ],
   "source": [
    "x = np.array([0.05, 0.1, 0.8, 0.3], requires_grad=True)\n",
    "y = np.array(0.4, requires_grad=False)\n",
    "\n",
    "test = circuit(x, y)\n",
    "\n",
    "\n",
    "tape_noisy = noisy_QC(alpha = 0.7, beta = 0.12, QC = circuit)\n",
    "\n",
    "fig, ax = tape_mpl(tape_noisy)\n",
    "fig.show()\n",
    "\n"
   ]
  },
  {
   "cell_type": "markdown",
   "id": "b27b6d16",
   "metadata": {},
   "source": [
    "### Step Two:\n",
    "Gate Basis \n",
    "\n",
    "Quantum computers can implement only a set of gates that, with transformations, can represent any other possible gate. This set of gates is called the Gate Basis of the QPU. Build a function that transforms a general Quantum Circuit to the following gate basis: {CX,ID,RZ,SX,X}\n"
   ]
  },
  {
   "cell_type": "markdown",
   "id": "6895a514",
   "metadata": {},
   "source": [
    "#### I used the buit_in module for Solovay-Kitaev decomposition. It turns out there is a bug in pennylanes module.\n",
    "#### It is said that the code first decomposes the the 1-qbit gates to {H, S, SX, X, T etc} and then use Solovay-Kitaev to find an apporximation for RZ gates. However the module, for single qbits part, uses another module that doesn't work with \"SX\" as basis.\n",
    "#### Since writing the code from scratch could take too long, I decided to use {S, H, X} basis for single qbit gates. \n",
    "#### In principle, one can replace the H-gates with SX and S. And S gates with RZ and a phase. So it wouldn't be hard to modify this ..."
   ]
  },
  {
   "cell_type": "code",
   "execution_count": 106,
   "id": "cffdf7c7",
   "metadata": {},
   "outputs": [],
   "source": [
    "def decomposed_circuit(circ): \n",
    "    \n",
    "    basis = ('I','S','H','X')\n",
    "    \n",
    "    return qml.transforms.clifford_t_decomposition(circ,epsilon=0.01, method = 'sk', basis_set = basis )\n"
   ]
  },
  {
   "cell_type": "markdown",
   "id": "0f4870dc",
   "metadata": {},
   "source": [
    "### Step Three\n",
    "Adding two numbers with a quantum computer\n",
    "\n",
    "Build a function (quantum_sum) to add two numbers using the Draper adder algorithm. You will need the Quantum Fourier Transform (QFT). Many libraries offer a function to use it. For this task, you will need to build QFT from scratch.\n"
   ]
  },
  {
   "cell_type": "markdown",
   "id": "b944719d",
   "metadata": {},
   "source": [
    "### In the following code, I first tranfored numbers into binaries, then I used PaulisWord to define the initial states.\n",
    "\n",
    "### In the next code, I will use QuantumStateVector."
   ]
  },
  {
   "cell_type": "code",
   "execution_count": 95,
   "id": "02abcac2",
   "metadata": {},
   "outputs": [],
   "source": [
    "\n",
    "def quantum_sum( num_x, num_y, num_qbits = 10): #num_qubits := # of qubits\n",
    "                                                #num_x and num_y the number to be added. \n",
    "                                                #only num_y will be transformed into binary series\n",
    "\n",
    "            \n",
    "    phi = 2*np.pi/(2**num_qbits)\n",
    "    \n",
    "    bin_y = bin(num_y)[2:]\n",
    "    bin_y = '0'*(num_qbits - len(bin_y)) + bin_y\n",
    "    state_y = np.array( [ int(bin_y[i]) for i in range(len(bin_y)) ] ) #This state will be fed into QFT_circuit\n",
    "\n",
    "    dev = qml.device('default.qubit',wires=num_qbits)\n",
    "    @qml.qnode(dev)\n",
    "\n",
    "    \n",
    "    def QFT_circuit (input_state, num_qbits = num_qbits): #Take the initial state as an array-like of binaries\n",
    "                                                                       #This Function is not exactly as QFT\n",
    "                                                                       #The final state have to be reordered.\n",
    "                                                                       #Reordering is done in another function\n",
    "    \n",
    "        #Preparing the initial state:\n",
    "        \n",
    "        paulidict = {0:'I', 1: 'X'}\n",
    "        initial_state = PauliWord({i: paulidict[ int(input_state[i]) ] for i in range(num_qbits) })\n",
    "        if all(input_state == 0): qml.Identity\n",
    "        else: \n",
    "            U_I = initial_state.to_mat()\n",
    "            qml.QubitUnitary(U_I ,wires = initial_state.wires) # I used this gate to deine an initial state\n",
    "                                                               # correspoinding to binary numbers.\n",
    "        \n",
    "        \n",
    "        \n",
    "         #The QFT operator:\n",
    "    \n",
    "        qml.Hadamard(wires = 0)\n",
    "        for w in range(1,num_qbits):\n",
    "            phi_w = (phi)*(input_state[w] * 2**(num_qbits - w -1))\n",
    "                \n",
    "            for crp in range(w):\n",
    "                U = np.array([[np.exp(1j*phi_w * (2**(crp))), 0  ],\n",
    "                             [0, np.exp(1j*phi_w * (2**(crp)))   ]])\n",
    "                qml.ControlledQubitUnitary(U, control_wires = crp , wires = w) \n",
    "                    \n",
    "            qml.Hadamard(w)\n",
    "    \n",
    "        return qml.state()\n",
    "    \n",
    "    def qft(state_vect, Inverse = False): #When Inverse is true, it computes the Inverse QFT.\n",
    "        st = QFT_circuit(state_vect, num_qbits)\n",
    "\n",
    "        def rev_bin(b): # This function is for reordering the output only.\n",
    "            bin_b =  bin(b)[2:]\n",
    "            bin_b = '0'*(num_qbits - len(bin_b)) + bin_b\n",
    "            binary = bin_b[::-1]\n",
    "            return int(binary, 2)\n",
    "    \n",
    "        qft0 = np.zeros(2**num_qbits, dtype=complex)\n",
    "        for i in range(2**num_qbits):\n",
    "            if Inverse:\n",
    "                qft0[rev_bin(i)] = np.conj(st[i])\n",
    "            else:\n",
    "                qft0[rev_bin(i)] = st[i]\n",
    "    \n",
    "        return qft0\n",
    "    \n",
    "    \n",
    "    state_qft_y = qft(state_y, Inverse = False)\n",
    "    \n",
    "    # The follwing state, ctrl_Z, will be given to the inverse_QFT:\n",
    "    \n",
    "    ctrl_Z = np.array([state_qft_y[i] *  np.exp(1j*phi * (i * num_x)) for i in range(2**num_qbits) ] )\n",
    "    \n",
    "    final_state = np.zeros(2**num_qbits)\n",
    "    \n",
    "    for num_z in range(2**num_qbits):\n",
    "        \n",
    "        bin_z = bin(num_z)[2:]\n",
    "        bin_z = '0'*(num_qbits - len(bin_z)) + bin_z\n",
    "        state_z = np.array( [ int(bin_z[i]) for i in range(len(bin_z)) ] )\n",
    "        \n",
    "        state_qftI_z = qft(state_z, Inverse = True)\n",
    "    \n",
    "        final_state = final_state + ctrl_Z[num_z] * state_qftI_z \n",
    "    \n",
    "    \n",
    "    return np.argmax(final_state * final_state.conj())"
   ]
  },
  {
   "cell_type": "code",
   "execution_count": 99,
   "id": "d6bd45f1",
   "metadata": {},
   "outputs": [
    {
     "data": {
      "text/plain": [
       "0"
      ]
     },
     "execution_count": 99,
     "metadata": {},
     "output_type": "execute_result"
    }
   ],
   "source": [
    "quantum_sum( num_x=15, num_y=1, num_qbits = 4)"
   ]
  },
  {
   "cell_type": "code",
   "execution_count": 96,
   "id": "692042f3",
   "metadata": {},
   "outputs": [
    {
     "data": {
      "text/plain": [
       "11"
      ]
     },
     "execution_count": 96,
     "metadata": {},
     "output_type": "execute_result"
    }
   ],
   "source": [
    "quantum_sum( num_x=10, num_y=1, num_qbits = 4)"
   ]
  },
  {
   "cell_type": "markdown",
   "id": "8c1f6532",
   "metadata": {},
   "source": [
    "#### In the table below, you see the result of quantum addition mod 16 ( 4 qubits)"
   ]
  },
  {
   "cell_type": "code",
   "execution_count": 98,
   "id": "85ce2c99",
   "metadata": {
    "scrolled": false
   },
   "outputs": [
    {
     "data": {
      "text/html": [
       "<div>\n",
       "<style scoped>\n",
       "    .dataframe tbody tr th:only-of-type {\n",
       "        vertical-align: middle;\n",
       "    }\n",
       "\n",
       "    .dataframe tbody tr th {\n",
       "        vertical-align: top;\n",
       "    }\n",
       "\n",
       "    .dataframe thead th {\n",
       "        text-align: right;\n",
       "    }\n",
       "</style>\n",
       "<table border=\"1\" class=\"dataframe\">\n",
       "  <thead>\n",
       "    <tr style=\"text-align: right;\">\n",
       "      <th></th>\n",
       "      <th>0</th>\n",
       "      <th>1</th>\n",
       "      <th>2</th>\n",
       "      <th>3</th>\n",
       "      <th>4</th>\n",
       "      <th>5</th>\n",
       "      <th>6</th>\n",
       "      <th>7</th>\n",
       "      <th>8</th>\n",
       "      <th>9</th>\n",
       "      <th>10</th>\n",
       "      <th>11</th>\n",
       "      <th>12</th>\n",
       "      <th>13</th>\n",
       "      <th>14</th>\n",
       "      <th>15</th>\n",
       "    </tr>\n",
       "  </thead>\n",
       "  <tbody>\n",
       "    <tr>\n",
       "      <th>0</th>\n",
       "      <td>0</td>\n",
       "      <td>1</td>\n",
       "      <td>2</td>\n",
       "      <td>3</td>\n",
       "      <td>4</td>\n",
       "      <td>5</td>\n",
       "      <td>6</td>\n",
       "      <td>7</td>\n",
       "      <td>8</td>\n",
       "      <td>9</td>\n",
       "      <td>10</td>\n",
       "      <td>11</td>\n",
       "      <td>12</td>\n",
       "      <td>13</td>\n",
       "      <td>14</td>\n",
       "      <td>15</td>\n",
       "    </tr>\n",
       "    <tr>\n",
       "      <th>1</th>\n",
       "      <td>1</td>\n",
       "      <td>2</td>\n",
       "      <td>3</td>\n",
       "      <td>4</td>\n",
       "      <td>5</td>\n",
       "      <td>6</td>\n",
       "      <td>7</td>\n",
       "      <td>8</td>\n",
       "      <td>9</td>\n",
       "      <td>10</td>\n",
       "      <td>11</td>\n",
       "      <td>12</td>\n",
       "      <td>13</td>\n",
       "      <td>14</td>\n",
       "      <td>15</td>\n",
       "      <td>0</td>\n",
       "    </tr>\n",
       "    <tr>\n",
       "      <th>2</th>\n",
       "      <td>2</td>\n",
       "      <td>3</td>\n",
       "      <td>4</td>\n",
       "      <td>5</td>\n",
       "      <td>6</td>\n",
       "      <td>7</td>\n",
       "      <td>8</td>\n",
       "      <td>9</td>\n",
       "      <td>10</td>\n",
       "      <td>11</td>\n",
       "      <td>12</td>\n",
       "      <td>13</td>\n",
       "      <td>14</td>\n",
       "      <td>15</td>\n",
       "      <td>0</td>\n",
       "      <td>1</td>\n",
       "    </tr>\n",
       "    <tr>\n",
       "      <th>3</th>\n",
       "      <td>3</td>\n",
       "      <td>4</td>\n",
       "      <td>5</td>\n",
       "      <td>6</td>\n",
       "      <td>7</td>\n",
       "      <td>8</td>\n",
       "      <td>9</td>\n",
       "      <td>10</td>\n",
       "      <td>11</td>\n",
       "      <td>12</td>\n",
       "      <td>13</td>\n",
       "      <td>14</td>\n",
       "      <td>15</td>\n",
       "      <td>0</td>\n",
       "      <td>1</td>\n",
       "      <td>2</td>\n",
       "    </tr>\n",
       "    <tr>\n",
       "      <th>4</th>\n",
       "      <td>4</td>\n",
       "      <td>5</td>\n",
       "      <td>6</td>\n",
       "      <td>7</td>\n",
       "      <td>8</td>\n",
       "      <td>9</td>\n",
       "      <td>10</td>\n",
       "      <td>11</td>\n",
       "      <td>12</td>\n",
       "      <td>13</td>\n",
       "      <td>14</td>\n",
       "      <td>15</td>\n",
       "      <td>0</td>\n",
       "      <td>1</td>\n",
       "      <td>2</td>\n",
       "      <td>3</td>\n",
       "    </tr>\n",
       "    <tr>\n",
       "      <th>5</th>\n",
       "      <td>5</td>\n",
       "      <td>6</td>\n",
       "      <td>7</td>\n",
       "      <td>8</td>\n",
       "      <td>9</td>\n",
       "      <td>10</td>\n",
       "      <td>11</td>\n",
       "      <td>12</td>\n",
       "      <td>13</td>\n",
       "      <td>14</td>\n",
       "      <td>15</td>\n",
       "      <td>0</td>\n",
       "      <td>1</td>\n",
       "      <td>2</td>\n",
       "      <td>3</td>\n",
       "      <td>4</td>\n",
       "    </tr>\n",
       "    <tr>\n",
       "      <th>6</th>\n",
       "      <td>6</td>\n",
       "      <td>7</td>\n",
       "      <td>8</td>\n",
       "      <td>9</td>\n",
       "      <td>10</td>\n",
       "      <td>11</td>\n",
       "      <td>12</td>\n",
       "      <td>13</td>\n",
       "      <td>14</td>\n",
       "      <td>15</td>\n",
       "      <td>0</td>\n",
       "      <td>1</td>\n",
       "      <td>2</td>\n",
       "      <td>3</td>\n",
       "      <td>4</td>\n",
       "      <td>5</td>\n",
       "    </tr>\n",
       "    <tr>\n",
       "      <th>7</th>\n",
       "      <td>7</td>\n",
       "      <td>8</td>\n",
       "      <td>9</td>\n",
       "      <td>10</td>\n",
       "      <td>11</td>\n",
       "      <td>12</td>\n",
       "      <td>13</td>\n",
       "      <td>14</td>\n",
       "      <td>15</td>\n",
       "      <td>0</td>\n",
       "      <td>1</td>\n",
       "      <td>2</td>\n",
       "      <td>3</td>\n",
       "      <td>4</td>\n",
       "      <td>5</td>\n",
       "      <td>6</td>\n",
       "    </tr>\n",
       "    <tr>\n",
       "      <th>8</th>\n",
       "      <td>8</td>\n",
       "      <td>9</td>\n",
       "      <td>10</td>\n",
       "      <td>11</td>\n",
       "      <td>12</td>\n",
       "      <td>13</td>\n",
       "      <td>14</td>\n",
       "      <td>15</td>\n",
       "      <td>0</td>\n",
       "      <td>1</td>\n",
       "      <td>2</td>\n",
       "      <td>3</td>\n",
       "      <td>4</td>\n",
       "      <td>5</td>\n",
       "      <td>6</td>\n",
       "      <td>7</td>\n",
       "    </tr>\n",
       "    <tr>\n",
       "      <th>9</th>\n",
       "      <td>9</td>\n",
       "      <td>10</td>\n",
       "      <td>11</td>\n",
       "      <td>12</td>\n",
       "      <td>13</td>\n",
       "      <td>14</td>\n",
       "      <td>15</td>\n",
       "      <td>0</td>\n",
       "      <td>1</td>\n",
       "      <td>2</td>\n",
       "      <td>3</td>\n",
       "      <td>4</td>\n",
       "      <td>5</td>\n",
       "      <td>6</td>\n",
       "      <td>7</td>\n",
       "      <td>8</td>\n",
       "    </tr>\n",
       "    <tr>\n",
       "      <th>10</th>\n",
       "      <td>10</td>\n",
       "      <td>11</td>\n",
       "      <td>12</td>\n",
       "      <td>13</td>\n",
       "      <td>14</td>\n",
       "      <td>15</td>\n",
       "      <td>0</td>\n",
       "      <td>1</td>\n",
       "      <td>2</td>\n",
       "      <td>3</td>\n",
       "      <td>4</td>\n",
       "      <td>5</td>\n",
       "      <td>6</td>\n",
       "      <td>7</td>\n",
       "      <td>8</td>\n",
       "      <td>9</td>\n",
       "    </tr>\n",
       "    <tr>\n",
       "      <th>11</th>\n",
       "      <td>11</td>\n",
       "      <td>12</td>\n",
       "      <td>13</td>\n",
       "      <td>14</td>\n",
       "      <td>15</td>\n",
       "      <td>0</td>\n",
       "      <td>1</td>\n",
       "      <td>2</td>\n",
       "      <td>3</td>\n",
       "      <td>4</td>\n",
       "      <td>5</td>\n",
       "      <td>6</td>\n",
       "      <td>7</td>\n",
       "      <td>8</td>\n",
       "      <td>9</td>\n",
       "      <td>10</td>\n",
       "    </tr>\n",
       "    <tr>\n",
       "      <th>12</th>\n",
       "      <td>12</td>\n",
       "      <td>13</td>\n",
       "      <td>14</td>\n",
       "      <td>15</td>\n",
       "      <td>0</td>\n",
       "      <td>1</td>\n",
       "      <td>2</td>\n",
       "      <td>3</td>\n",
       "      <td>4</td>\n",
       "      <td>5</td>\n",
       "      <td>6</td>\n",
       "      <td>7</td>\n",
       "      <td>8</td>\n",
       "      <td>9</td>\n",
       "      <td>10</td>\n",
       "      <td>11</td>\n",
       "    </tr>\n",
       "    <tr>\n",
       "      <th>13</th>\n",
       "      <td>13</td>\n",
       "      <td>14</td>\n",
       "      <td>15</td>\n",
       "      <td>0</td>\n",
       "      <td>1</td>\n",
       "      <td>2</td>\n",
       "      <td>3</td>\n",
       "      <td>4</td>\n",
       "      <td>5</td>\n",
       "      <td>6</td>\n",
       "      <td>7</td>\n",
       "      <td>8</td>\n",
       "      <td>9</td>\n",
       "      <td>10</td>\n",
       "      <td>11</td>\n",
       "      <td>12</td>\n",
       "    </tr>\n",
       "    <tr>\n",
       "      <th>14</th>\n",
       "      <td>14</td>\n",
       "      <td>15</td>\n",
       "      <td>0</td>\n",
       "      <td>1</td>\n",
       "      <td>2</td>\n",
       "      <td>3</td>\n",
       "      <td>4</td>\n",
       "      <td>5</td>\n",
       "      <td>6</td>\n",
       "      <td>7</td>\n",
       "      <td>8</td>\n",
       "      <td>9</td>\n",
       "      <td>10</td>\n",
       "      <td>11</td>\n",
       "      <td>12</td>\n",
       "      <td>13</td>\n",
       "    </tr>\n",
       "    <tr>\n",
       "      <th>15</th>\n",
       "      <td>15</td>\n",
       "      <td>0</td>\n",
       "      <td>1</td>\n",
       "      <td>2</td>\n",
       "      <td>3</td>\n",
       "      <td>4</td>\n",
       "      <td>5</td>\n",
       "      <td>6</td>\n",
       "      <td>7</td>\n",
       "      <td>8</td>\n",
       "      <td>9</td>\n",
       "      <td>10</td>\n",
       "      <td>11</td>\n",
       "      <td>12</td>\n",
       "      <td>13</td>\n",
       "      <td>14</td>\n",
       "    </tr>\n",
       "  </tbody>\n",
       "</table>\n",
       "</div>"
      ],
      "text/plain": [
       "    0   1   2   3   4   5   6   7   8   9   10  11  12  13  14  15\n",
       "0    0   1   2   3   4   5   6   7   8   9  10  11  12  13  14  15\n",
       "1    1   2   3   4   5   6   7   8   9  10  11  12  13  14  15   0\n",
       "2    2   3   4   5   6   7   8   9  10  11  12  13  14  15   0   1\n",
       "3    3   4   5   6   7   8   9  10  11  12  13  14  15   0   1   2\n",
       "4    4   5   6   7   8   9  10  11  12  13  14  15   0   1   2   3\n",
       "5    5   6   7   8   9  10  11  12  13  14  15   0   1   2   3   4\n",
       "6    6   7   8   9  10  11  12  13  14  15   0   1   2   3   4   5\n",
       "7    7   8   9  10  11  12  13  14  15   0   1   2   3   4   5   6\n",
       "8    8   9  10  11  12  13  14  15   0   1   2   3   4   5   6   7\n",
       "9    9  10  11  12  13  14  15   0   1   2   3   4   5   6   7   8\n",
       "10  10  11  12  13  14  15   0   1   2   3   4   5   6   7   8   9\n",
       "11  11  12  13  14  15   0   1   2   3   4   5   6   7   8   9  10\n",
       "12  12  13  14  15   0   1   2   3   4   5   6   7   8   9  10  11\n",
       "13  13  14  15   0   1   2   3   4   5   6   7   8   9  10  11  12\n",
       "14  14  15   0   1   2   3   4   5   6   7   8   9  10  11  12  13\n",
       "15  15   0   1   2   3   4   5   6   7   8   9  10  11  12  13  14"
      ]
     },
     "execution_count": 98,
     "metadata": {},
     "output_type": "execute_result"
    }
   ],
   "source": [
    "df = pd.DataFrame(columns = [i for i in range(16)], index = [i for i in range(16)])\n",
    "for indx in range(df.shape[0]):\n",
    "    for cn in range(df.shape[1]):\n",
    "        df.iloc[indx,cn] = quantum_sum( num_x=indx, num_y=cn, num_qbits = 4)\n",
    "df"
   ]
  },
  {
   "cell_type": "markdown",
   "id": "ef565598",
   "metadata": {},
   "source": [
    "### Step Four\n",
    "\n",
    "Effects of noise on quantum addition \n",
    "\n",
    "Now, we can combine all the functions. Transform the circuit used in the quantum_sum to the gate basis and add noise. Use different levels of noise and analyze the results. \n",
    "\n",
    "How does the noise affect the results? \\\n",
    "Is there a way to decrease the effect of noise? \\\n",
    "How does the number of gates used affect the results? \n"
   ]
  },
  {
   "cell_type": "code",
   "execution_count": 138,
   "id": "f5cb57f5",
   "metadata": {},
   "outputs": [],
   "source": [
    "def noisy_adder(num_x, num_y, num_qbits, alpha, beta):\n",
    "    \n",
    "    phi = 2*np.pi/(2**num_qbits)\n",
    "    \n",
    "    bin_y = bin(num_y)[2:]\n",
    "    bin_y = '0'*(num_qbits - len(bin_y)) + bin_y\n",
    "    state_y = np.array( [ int(bin_y[i]) for i in range(len(bin_y)) ] ) #This state will be fed into QFT_circuit\n",
    "\n",
    "    dev = qml.device('default.qubit',wires=num_qbits)\n",
    "    @qml.qnode(dev)\n",
    "\n",
    "    \n",
    "    def QFT_circuit (input_state, num_qbits = num_qbits): #Take the initial state as an array-like of binaries\n",
    "                                                                       #This Function is not exactly as QFT\n",
    "                                                                       #The final state have to be reordered.\n",
    "                                                                       #Reordering is done in another function\n",
    "    \n",
    "        #Preparing the initial state:\n",
    "        \n",
    "        l = len(input_state)\n",
    "        initial_state = np.zeros(2**l, dtype = complex)\n",
    "        ind = 0\n",
    "        state_y\n",
    "        for i in range(l):\n",
    "            ind += input_state[i]*(2** (l - i -1 ) )\n",
    "        \n",
    "        initial_state[int(ind)] = 1.0 + 0.0*1j\n",
    "        qml.QubitStateVector(initial_state, wires=[i for i in range(num_qbits)])\n",
    "        \n",
    "        \n",
    "        \n",
    "         #The QFT operator:\n",
    "    \n",
    "        qml.Hadamard(wires = 0)\n",
    "        for w in range(1,num_qbits):\n",
    "            phi_w = (phi)*(input_state[w] * 2**(num_qbits - w -1))\n",
    "                \n",
    "            for crp in range(w):\n",
    "                U = np.array([[np.exp(1j*phi_w * (2**(crp))), 0  ],\n",
    "                             [0, np.exp(1j*phi_w * (2**(crp)))   ]])\n",
    "                qml.ControlledQubitUnitary(U, control_wires = crp , wires = w) \n",
    "                    \n",
    "            qml.Hadamard(w)\n",
    "    \n",
    "        return qml.state()\n",
    "    \n",
    "    ST_QFT = decomposed_circuit(QFT_circuit)\n",
    "    \n",
    "        \n",
    "    def qft(state_vect, Inverse = False): #When Inverse is true, it computes the Inverse QFT.\n",
    "        test = ST_QFT(state_vect)\n",
    "        noisy_QFT = noisy_QC(alpha = alpha, beta = beta , QC = ST_QFT)\n",
    "        \n",
    "        st = qml.execute([noisy_QFT],dev)[0]\n",
    "\n",
    "        def rev_bin(b): # This function is for reordering the output only.\n",
    "            bin_b =  bin(b)[2:]\n",
    "            bin_b = '0'*(num_qbits - len(bin_b)) + bin_b\n",
    "            binary = bin_b[::-1]\n",
    "            return int(binary, 2)\n",
    "    \n",
    "        qft0 = np.zeros(2**num_qbits, dtype=complex)\n",
    "        for i in range(2**num_qbits):\n",
    "            if Inverse:\n",
    "                qft0[rev_bin(i)] = np.conj(st[i])\n",
    "            else:\n",
    "                qft0[rev_bin(i)] = st[i]\n",
    "    \n",
    "        return qft0\n",
    "    \n",
    "    \n",
    "    state_qft_y = qft(state_y, Inverse = False)\n",
    "    \n",
    "    # The follwing state, ctrl_Z, will be given to the inverse_QFT:\n",
    "    \n",
    "    ctrl_Z = np.array([state_qft_y[i] *  np.exp(1j*phi * (i * num_x)) for i in range(2**num_qbits) ] )\n",
    "    \n",
    "    final_state = np.zeros(2**num_qbits)\n",
    "    \n",
    "    for num_z in range(2**num_qbits):\n",
    "        \n",
    "        bin_z = bin(num_z)[2:]\n",
    "        bin_z = '0'*(num_qbits - len(bin_z)) + bin_z\n",
    "        state_z = np.array( [ int(bin_z[i]) for i in range(len(bin_z)) ] )\n",
    "        \n",
    "        state_qftI_z = qft(state_z, Inverse = True)\n",
    "    \n",
    "        final_state = final_state + ctrl_Z[num_z] * state_qftI_z \n",
    "    \n",
    "    res = np.argmax(final_state * final_state.conj())\n",
    "    \n",
    "    tape = ST_QFT.tape\n",
    "    num_gates = len(tape.operations)\n",
    "    return res, num_gates"
   ]
  },
  {
   "cell_type": "code",
   "execution_count": 139,
   "id": "6cf6638b",
   "metadata": {},
   "outputs": [
    {
     "data": {
      "text/plain": [
       "(6, 7)"
      ]
     },
     "execution_count": 139,
     "metadata": {},
     "output_type": "execute_result"
    }
   ],
   "source": [
    "noisy_adder(num_x=2, num_y=4, num_qbits=3, alpha=0.001, beta=0.001)"
   ]
  },
  {
   "cell_type": "code",
   "execution_count": 142,
   "id": "8a1e03d1",
   "metadata": {},
   "outputs": [
    {
     "data": {
      "text/plain": [
       "[6, 6, 6, 6, 6, 3, 6, 7, 5, 2]"
      ]
     },
     "execution_count": 142,
     "metadata": {},
     "output_type": "execute_result"
    }
   ],
   "source": [
    "alpha_effect = []\n",
    "for i in range(10):\n",
    "    res = noisy_adder(num_x=2, num_y=4, num_qbits=3, alpha=0.00 + 0.05*i, beta=0.001)[0]\n",
    "    alpha_effect.append(res)\n",
    "alpha_effect"
   ]
  },
  {
   "cell_type": "code",
   "execution_count": 143,
   "id": "411cc34f",
   "metadata": {},
   "outputs": [
    {
     "data": {
      "text/plain": [
       "[(6, 7),\n",
       " (6, 7),\n",
       " (6, 7),\n",
       " (0, 7),\n",
       " (1, 7),\n",
       " (1, 7),\n",
       " (1, 7),\n",
       " (0, 7),\n",
       " (1, 7),\n",
       " (5, 7)]"
      ]
     },
     "execution_count": 143,
     "metadata": {},
     "output_type": "execute_result"
    }
   ],
   "source": [
    "beta_effect = []\n",
    "for i in range(10):\n",
    "    res = noisy_adder(num_x=2, num_y=4, num_qbits=3, alpha=0.001, beta=0.00+0.05*i)\n",
    "    beta_effect.append(res)\n",
    "beta_effect"
   ]
  },
  {
   "cell_type": "code",
   "execution_count": 149,
   "id": "9655c120",
   "metadata": {},
   "outputs": [],
   "source": [
    "beta_effect_r = [beta_effect[i][0] for i in range(10)]"
   ]
  },
  {
   "cell_type": "code",
   "execution_count": 150,
   "id": "31500369",
   "metadata": {},
   "outputs": [
    {
     "data": {
      "text/plain": [
       "Text(0.5, 1.0, 'The effect of noise on Quantum_sum(2+4)')"
      ]
     },
     "execution_count": 150,
     "metadata": {},
     "output_type": "execute_result"
    },
    {
     "data": {
      "image/png": "[encoded data removed]",
      "text/plain": [
       "<Figure size 640x480 with 1 Axes>"
      ]
     },
     "metadata": {},
     "output_type": "display_data"
    }
   ],
   "source": [
    "import matplotlib.pyplot as plt\n",
    "\n",
    "#plt.figure(figsize = (17,5))\n",
    "\n",
    "#plt.subplot(131)\n",
    "plt.plot(range(10), alpha_effect, label = 'Alpha noise effect')\n",
    "plt.plot(range(10),beta_effect_r, label = 'Beta noise effect')\n",
    "plt.legend()\n",
    "plt.xlabel('Noise probability [0.05 steps]')\n",
    "plt.ylabel('Result')\n",
    "plt.title('The effect of noise on Quantum_sum(2+4) accuracy (3 Qbits)')\n",
    "\n",
    "plt.show()"
   ]
  },
  {
   "cell_type": "markdown",
   "id": "2a9e2e7a",
   "metadata": {},
   "source": [
    "### The effect of noises on the accuracy of the quantum ciruit is shown on this graph"
   ]
  },
  {
   "cell_type": "markdown",
   "id": "87e7da3f",
   "metadata": {},
   "source": [
    "The follwoign part is too slow on my computer. I had to interrupt the kernel after a while. But it generated enough data:"
   ]
  },
  {
   "cell_type": "code",
   "execution_count": 154,
   "id": "04a491e8",
   "metadata": {},
   "outputs": [
    {
     "ename": "KeyboardInterrupt",
     "evalue": "",
     "output_type": "error",
     "traceback": [
      "\u001b[0;31m---------------------------------------------------------------------------\u001b[0m",
      "\u001b[0;31mKeyboardInterrupt\u001b[0m                         Traceback (most recent call last)",
      "Cell \u001b[0;32mIn[154], line 7\u001b[0m\n\u001b[1;32m      5\u001b[0m \u001b[38;5;28;01mfor\u001b[39;00m i \u001b[38;5;129;01min\u001b[39;00m \u001b[38;5;28mrange\u001b[39m(\u001b[38;5;241m6\u001b[39m):\n\u001b[1;32m      6\u001b[0m     start \u001b[38;5;241m=\u001b[39m time\u001b[38;5;241m.\u001b[39mtime()\n\u001b[0;32m----> 7\u001b[0m     res \u001b[38;5;241m=\u001b[39m noisy_adder(num_x\u001b[38;5;241m=\u001b[39m\u001b[38;5;241m2\u001b[39m, num_y\u001b[38;5;241m=\u001b[39m\u001b[38;5;241m1\u001b[39m, num_qbits\u001b[38;5;241m=\u001b[39m\u001b[38;5;241m2\u001b[39m\u001b[38;5;241m+\u001b[39mi, alpha\u001b[38;5;241m=\u001b[39m\u001b[38;5;241m0.001\u001b[39m, beta\u001b[38;5;241m=\u001b[39m\u001b[38;5;241m0.001\u001b[39m)\n\u001b[1;32m      8\u001b[0m     end \u001b[38;5;241m=\u001b[39m time\u001b[38;5;241m.\u001b[39mtime()\n\u001b[1;32m      9\u001b[0m     gate_time\u001b[38;5;241m.\u001b[39mappend(end\u001b[38;5;241m-\u001b[39mstart)\n",
      "Cell \u001b[0;32mIn[138], line 86\u001b[0m, in \u001b[0;36mnoisy_adder\u001b[0;34m(num_x, num_y, num_qbits, alpha, beta)\u001b[0m\n\u001b[1;32m     83\u001b[0m     bin_z \u001b[38;5;241m=\u001b[39m \u001b[38;5;124m'\u001b[39m\u001b[38;5;124m0\u001b[39m\u001b[38;5;124m'\u001b[39m\u001b[38;5;241m*\u001b[39m(num_qbits \u001b[38;5;241m-\u001b[39m \u001b[38;5;28mlen\u001b[39m(bin_z)) \u001b[38;5;241m+\u001b[39m bin_z\n\u001b[1;32m     84\u001b[0m     state_z \u001b[38;5;241m=\u001b[39m np\u001b[38;5;241m.\u001b[39marray( [ \u001b[38;5;28mint\u001b[39m(bin_z[i]) \u001b[38;5;28;01mfor\u001b[39;00m i \u001b[38;5;129;01min\u001b[39;00m \u001b[38;5;28mrange\u001b[39m(\u001b[38;5;28mlen\u001b[39m(bin_z)) ] )\n\u001b[0;32m---> 86\u001b[0m     state_qftI_z \u001b[38;5;241m=\u001b[39m qft(state_z, Inverse \u001b[38;5;241m=\u001b[39m \u001b[38;5;28;01mTrue\u001b[39;00m)\n\u001b[1;32m     88\u001b[0m     final_state \u001b[38;5;241m=\u001b[39m final_state \u001b[38;5;241m+\u001b[39m ctrl_Z[num_z] \u001b[38;5;241m*\u001b[39m state_qftI_z \n\u001b[1;32m     90\u001b[0m res \u001b[38;5;241m=\u001b[39m np\u001b[38;5;241m.\u001b[39margmax(final_state \u001b[38;5;241m*\u001b[39m final_state\u001b[38;5;241m.\u001b[39mconj())\n",
      "Cell \u001b[0;32mIn[138], line 51\u001b[0m, in \u001b[0;36mnoisy_adder.<locals>.qft\u001b[0;34m(state_vect, Inverse)\u001b[0m\n\u001b[1;32m     50\u001b[0m \u001b[38;5;28;01mdef\u001b[39;00m \u001b[38;5;21mqft\u001b[39m(state_vect, Inverse \u001b[38;5;241m=\u001b[39m \u001b[38;5;28;01mFalse\u001b[39;00m): \u001b[38;5;66;03m#When Inverse is true, it computes the Inverse QFT.\u001b[39;00m\n\u001b[0;32m---> 51\u001b[0m     test \u001b[38;5;241m=\u001b[39m ST_QFT(state_vect)\n\u001b[1;32m     52\u001b[0m     noisy_QFT \u001b[38;5;241m=\u001b[39m noisy_QC(alpha \u001b[38;5;241m=\u001b[39m alpha, beta \u001b[38;5;241m=\u001b[39m beta , QC \u001b[38;5;241m=\u001b[39m ST_QFT)\n\u001b[1;32m     54\u001b[0m     st \u001b[38;5;241m=\u001b[39m qml\u001b[38;5;241m.\u001b[39mexecute([noisy_QFT],dev)[\u001b[38;5;241m0\u001b[39m]\n",
      "File \u001b[0;32m~/anaconda3/lib/python3.11/site-packages/pennylane/workflow/qnode.py:1020\u001b[0m, in \u001b[0;36mQNode.__call__\u001b[0;34m(self, *args, **kwargs)\u001b[0m\n\u001b[1;32m   1018\u001b[0m \u001b[38;5;28;01mif\u001b[39;00m qml\u001b[38;5;241m.\u001b[39mcapture\u001b[38;5;241m.\u001b[39menabled():\n\u001b[1;32m   1019\u001b[0m     \u001b[38;5;28;01mreturn\u001b[39;00m qml\u001b[38;5;241m.\u001b[39mcapture\u001b[38;5;241m.\u001b[39mqnode_call(\u001b[38;5;28mself\u001b[39m, \u001b[38;5;241m*\u001b[39margs, \u001b[38;5;241m*\u001b[39m\u001b[38;5;241m*\u001b[39mkwargs)\n\u001b[0;32m-> 1020\u001b[0m \u001b[38;5;28;01mreturn\u001b[39;00m \u001b[38;5;28mself\u001b[39m\u001b[38;5;241m.\u001b[39m_impl_call(\u001b[38;5;241m*\u001b[39margs, \u001b[38;5;241m*\u001b[39m\u001b[38;5;241m*\u001b[39mkwargs)\n",
      "File \u001b[0;32m~/anaconda3/lib/python3.11/site-packages/pennylane/workflow/qnode.py:1008\u001b[0m, in \u001b[0;36mQNode._impl_call\u001b[0;34m(self, *args, **kwargs)\u001b[0m\n\u001b[1;32m   1005\u001b[0m \u001b[38;5;28mself\u001b[39m\u001b[38;5;241m.\u001b[39m_update_gradient_fn(shots\u001b[38;5;241m=\u001b[39moverride_shots, tape\u001b[38;5;241m=\u001b[39m\u001b[38;5;28mself\u001b[39m\u001b[38;5;241m.\u001b[39m_tape)\n\u001b[1;32m   1007\u001b[0m \u001b[38;5;28;01mtry\u001b[39;00m:\n\u001b[0;32m-> 1008\u001b[0m     res \u001b[38;5;241m=\u001b[39m \u001b[38;5;28mself\u001b[39m\u001b[38;5;241m.\u001b[39m_execution_component(args, kwargs, override_shots\u001b[38;5;241m=\u001b[39moverride_shots)\n\u001b[1;32m   1009\u001b[0m \u001b[38;5;28;01mfinally\u001b[39;00m:\n\u001b[1;32m   1010\u001b[0m     \u001b[38;5;28;01mif\u001b[39;00m old_interface \u001b[38;5;241m==\u001b[39m \u001b[38;5;124m\"\u001b[39m\u001b[38;5;124mauto\u001b[39m\u001b[38;5;124m\"\u001b[39m:\n",
      "File \u001b[0;32m~/anaconda3/lib/python3.11/site-packages/pennylane/workflow/qnode.py:957\u001b[0m, in \u001b[0;36mQNode._execution_component\u001b[0;34m(self, args, kwargs, override_shots)\u001b[0m\n\u001b[1;32m    951\u001b[0m     warnings\u001b[38;5;241m.\u001b[39mfilterwarnings(\n\u001b[1;32m    952\u001b[0m         action\u001b[38;5;241m=\u001b[39m\u001b[38;5;124m\"\u001b[39m\u001b[38;5;124mignore\u001b[39m\u001b[38;5;124m\"\u001b[39m,\n\u001b[1;32m    953\u001b[0m         message\u001b[38;5;241m=\u001b[39m\u001b[38;5;124mr\u001b[39m\u001b[38;5;124m\"\u001b[39m\u001b[38;5;124m.*argument is deprecated and will be removed in version 0.39.*\u001b[39m\u001b[38;5;124m\"\u001b[39m,\n\u001b[1;32m    954\u001b[0m         category\u001b[38;5;241m=\u001b[39mqml\u001b[38;5;241m.\u001b[39mPennyLaneDeprecationWarning,\n\u001b[1;32m    955\u001b[0m     )\n\u001b[1;32m    956\u001b[0m     \u001b[38;5;66;03m# pylint: disable=unexpected-keyword-arg\u001b[39;00m\n\u001b[0;32m--> 957\u001b[0m     res \u001b[38;5;241m=\u001b[39m qml\u001b[38;5;241m.\u001b[39mexecute(\n\u001b[1;32m    958\u001b[0m         (\u001b[38;5;28mself\u001b[39m\u001b[38;5;241m.\u001b[39m_tape,),\n\u001b[1;32m    959\u001b[0m         device\u001b[38;5;241m=\u001b[39m\u001b[38;5;28mself\u001b[39m\u001b[38;5;241m.\u001b[39mdevice,\n\u001b[1;32m    960\u001b[0m         gradient_fn\u001b[38;5;241m=\u001b[39m\u001b[38;5;28mself\u001b[39m\u001b[38;5;241m.\u001b[39mgradient_fn,\n\u001b[1;32m    961\u001b[0m         interface\u001b[38;5;241m=\u001b[39m\u001b[38;5;28mself\u001b[39m\u001b[38;5;241m.\u001b[39minterface,\n\u001b[1;32m    962\u001b[0m         transform_program\u001b[38;5;241m=\u001b[39mfull_transform_program,\n\u001b[1;32m    963\u001b[0m         inner_transform\u001b[38;5;241m=\u001b[39minner_transform_program,\n\u001b[1;32m    964\u001b[0m         config\u001b[38;5;241m=\u001b[39mconfig,\n\u001b[1;32m    965\u001b[0m         gradient_kwargs\u001b[38;5;241m=\u001b[39m\u001b[38;5;28mself\u001b[39m\u001b[38;5;241m.\u001b[39mgradient_kwargs,\n\u001b[1;32m    966\u001b[0m         override_shots\u001b[38;5;241m=\u001b[39moverride_shots,\n\u001b[1;32m    967\u001b[0m         \u001b[38;5;241m*\u001b[39m\u001b[38;5;241m*\u001b[39mexecute_kwargs,\n\u001b[1;32m    968\u001b[0m     )\n\u001b[1;32m    969\u001b[0m res \u001b[38;5;241m=\u001b[39m res[\u001b[38;5;241m0\u001b[39m]\n\u001b[1;32m    971\u001b[0m \u001b[38;5;66;03m# convert result to the interface in case the qfunc has no parameters\u001b[39;00m\n",
      "File \u001b[0;32m~/anaconda3/lib/python3.11/site-packages/pennylane/workflow/execution.py:660\u001b[0m, in \u001b[0;36mexecute\u001b[0;34m(tapes, device, gradient_fn, interface, transform_program, inner_transform, config, grad_on_execution, gradient_kwargs, cache, cachesize, max_diff, override_shots, expand_fn, max_expansion, device_batch_transform, device_vjp, mcm_config)\u001b[0m\n\u001b[1;32m    658\u001b[0m \u001b[38;5;66;03m# Exiting early if we do not need to deal with an interface boundary\u001b[39;00m\n\u001b[1;32m    659\u001b[0m \u001b[38;5;28;01mif\u001b[39;00m no_interface_boundary_required:\n\u001b[0;32m--> 660\u001b[0m     results \u001b[38;5;241m=\u001b[39m inner_execute(tapes)\n\u001b[1;32m    661\u001b[0m     \u001b[38;5;28;01mreturn\u001b[39;00m post_processing(results)\n\u001b[1;32m    663\u001b[0m \u001b[38;5;28;01mif\u001b[39;00m (\n\u001b[1;32m    664\u001b[0m     device_vjp\n\u001b[1;32m    665\u001b[0m     \u001b[38;5;129;01mand\u001b[39;00m \u001b[38;5;28mgetattr\u001b[39m(device, \u001b[38;5;124m\"\u001b[39m\u001b[38;5;124mshort_name\u001b[39m\u001b[38;5;124m\"\u001b[39m, \u001b[38;5;124m\"\u001b[39m\u001b[38;5;124m\"\u001b[39m) \u001b[38;5;129;01min\u001b[39;00m (\u001b[38;5;124m\"\u001b[39m\u001b[38;5;124mlightning.gpu\u001b[39m\u001b[38;5;124m\"\u001b[39m, \u001b[38;5;124m\"\u001b[39m\u001b[38;5;124mlightning.kokkos\u001b[39m\u001b[38;5;124m\"\u001b[39m)\n\u001b[1;32m    666\u001b[0m     \u001b[38;5;129;01mand\u001b[39;00m interface \u001b[38;5;129;01min\u001b[39;00m jpc_interfaces\n\u001b[1;32m    667\u001b[0m ):  \u001b[38;5;66;03m# pragma: no cover\u001b[39;00m\n",
      "File \u001b[0;32m~/anaconda3/lib/python3.11/site-packages/pennylane/workflow/execution.py:212\u001b[0m, in \u001b[0;36m_make_inner_execute.<locals>.inner_execute\u001b[0;34m(tapes, **_)\u001b[0m\n\u001b[1;32m    209\u001b[0m transformed_tapes, transform_post_processing \u001b[38;5;241m=\u001b[39m transform_program(tapes)\n\u001b[1;32m    211\u001b[0m \u001b[38;5;28;01mif\u001b[39;00m transformed_tapes:\n\u001b[0;32m--> 212\u001b[0m     results \u001b[38;5;241m=\u001b[39m device\u001b[38;5;241m.\u001b[39mexecute(transformed_tapes, execution_config\u001b[38;5;241m=\u001b[39mexecution_config)\n\u001b[1;32m    213\u001b[0m \u001b[38;5;28;01melse\u001b[39;00m:\n\u001b[1;32m    214\u001b[0m     results \u001b[38;5;241m=\u001b[39m ()\n",
      "File \u001b[0;32m~/anaconda3/lib/python3.11/site-packages/pennylane/devices/modifiers/simulator_tracking.py:30\u001b[0m, in \u001b[0;36m_track_execute.<locals>.execute\u001b[0;34m(self, circuits, execution_config)\u001b[0m\n\u001b[1;32m     28\u001b[0m \u001b[38;5;129m@wraps\u001b[39m(untracked_execute)\n\u001b[1;32m     29\u001b[0m \u001b[38;5;28;01mdef\u001b[39;00m \u001b[38;5;21mexecute\u001b[39m(\u001b[38;5;28mself\u001b[39m, circuits, execution_config\u001b[38;5;241m=\u001b[39mDefaultExecutionConfig):\n\u001b[0;32m---> 30\u001b[0m     results \u001b[38;5;241m=\u001b[39m untracked_execute(\u001b[38;5;28mself\u001b[39m, circuits, execution_config)\n\u001b[1;32m     31\u001b[0m     \u001b[38;5;28;01mif\u001b[39;00m \u001b[38;5;28misinstance\u001b[39m(circuits, QuantumScript):\n\u001b[1;32m     32\u001b[0m         batch \u001b[38;5;241m=\u001b[39m (circuits,)\n",
      "File \u001b[0;32m~/anaconda3/lib/python3.11/site-packages/pennylane/devices/modifiers/single_tape_support.py:32\u001b[0m, in \u001b[0;36m_make_execute.<locals>.execute\u001b[0;34m(self, circuits, execution_config)\u001b[0m\n\u001b[1;32m     30\u001b[0m     is_single_circuit \u001b[38;5;241m=\u001b[39m \u001b[38;5;28;01mTrue\u001b[39;00m\n\u001b[1;32m     31\u001b[0m     circuits \u001b[38;5;241m=\u001b[39m (circuits,)\n\u001b[0;32m---> 32\u001b[0m results \u001b[38;5;241m=\u001b[39m batch_execute(\u001b[38;5;28mself\u001b[39m, circuits, execution_config)\n\u001b[1;32m     33\u001b[0m \u001b[38;5;28;01mreturn\u001b[39;00m results[\u001b[38;5;241m0\u001b[39m] \u001b[38;5;28;01mif\u001b[39;00m is_single_circuit \u001b[38;5;28;01melse\u001b[39;00m results\n",
      "File \u001b[0;32m~/anaconda3/lib/python3.11/site-packages/pennylane/logging/decorators.py:61\u001b[0m, in \u001b[0;36mlog_string_debug_func.<locals>.wrapper_entry\u001b[0;34m(*args, **kwargs)\u001b[0m\n\u001b[1;32m     54\u001b[0m     s_caller \u001b[38;5;241m=\u001b[39m \u001b[38;5;124m\"\u001b[39m\u001b[38;5;124m::L\u001b[39m\u001b[38;5;124m\"\u001b[39m\u001b[38;5;241m.\u001b[39mjoin(\n\u001b[1;32m     55\u001b[0m         [\u001b[38;5;28mstr\u001b[39m(i) \u001b[38;5;28;01mfor\u001b[39;00m i \u001b[38;5;129;01min\u001b[39;00m inspect\u001b[38;5;241m.\u001b[39mgetouterframes(inspect\u001b[38;5;241m.\u001b[39mcurrentframe(), \u001b[38;5;241m2\u001b[39m)[\u001b[38;5;241m1\u001b[39m][\u001b[38;5;241m1\u001b[39m:\u001b[38;5;241m3\u001b[39m]]\n\u001b[1;32m     56\u001b[0m     )\n\u001b[1;32m     57\u001b[0m     lgr\u001b[38;5;241m.\u001b[39mdebug(\n\u001b[1;32m     58\u001b[0m         \u001b[38;5;124mf\u001b[39m\u001b[38;5;124m\"\u001b[39m\u001b[38;5;124mCalling \u001b[39m\u001b[38;5;132;01m{\u001b[39;00mf_string\u001b[38;5;132;01m}\u001b[39;00m\u001b[38;5;124m from \u001b[39m\u001b[38;5;132;01m{\u001b[39;00ms_caller\u001b[38;5;132;01m}\u001b[39;00m\u001b[38;5;124m\"\u001b[39m,\n\u001b[1;32m     59\u001b[0m         \u001b[38;5;241m*\u001b[39m\u001b[38;5;241m*\u001b[39m_debug_log_kwargs,\n\u001b[1;32m     60\u001b[0m     )\n\u001b[0;32m---> 61\u001b[0m \u001b[38;5;28;01mreturn\u001b[39;00m func(\u001b[38;5;241m*\u001b[39margs, \u001b[38;5;241m*\u001b[39m\u001b[38;5;241m*\u001b[39mkwargs)\n",
      "File \u001b[0;32m~/anaconda3/lib/python3.11/site-packages/pennylane/devices/default_qubit.py:630\u001b[0m, in \u001b[0;36mDefaultQubit.execute\u001b[0;34m(self, circuits, execution_config)\u001b[0m\n\u001b[1;32m    627\u001b[0m prng_keys \u001b[38;5;241m=\u001b[39m [\u001b[38;5;28mself\u001b[39m\u001b[38;5;241m.\u001b[39mget_prng_keys()[\u001b[38;5;241m0\u001b[39m] \u001b[38;5;28;01mfor\u001b[39;00m _ \u001b[38;5;129;01min\u001b[39;00m \u001b[38;5;28mrange\u001b[39m(\u001b[38;5;28mlen\u001b[39m(circuits))]\n\u001b[1;32m    629\u001b[0m \u001b[38;5;28;01mif\u001b[39;00m max_workers \u001b[38;5;129;01mis\u001b[39;00m \u001b[38;5;28;01mNone\u001b[39;00m:\n\u001b[0;32m--> 630\u001b[0m     \u001b[38;5;28;01mreturn\u001b[39;00m \u001b[38;5;28mtuple\u001b[39m(\n\u001b[1;32m    631\u001b[0m         _simulate_wrapper(\n\u001b[1;32m    632\u001b[0m             c,\n\u001b[1;32m    633\u001b[0m             {\n\u001b[1;32m    634\u001b[0m                 \u001b[38;5;124m\"\u001b[39m\u001b[38;5;124mrng\u001b[39m\u001b[38;5;124m\"\u001b[39m: \u001b[38;5;28mself\u001b[39m\u001b[38;5;241m.\u001b[39m_rng,\n\u001b[1;32m    635\u001b[0m                 \u001b[38;5;124m\"\u001b[39m\u001b[38;5;124mdebugger\u001b[39m\u001b[38;5;124m\"\u001b[39m: \u001b[38;5;28mself\u001b[39m\u001b[38;5;241m.\u001b[39m_debugger,\n\u001b[1;32m    636\u001b[0m                 \u001b[38;5;124m\"\u001b[39m\u001b[38;5;124minterface\u001b[39m\u001b[38;5;124m\"\u001b[39m: interface,\n\u001b[1;32m    637\u001b[0m                 \u001b[38;5;124m\"\u001b[39m\u001b[38;5;124mstate_cache\u001b[39m\u001b[38;5;124m\"\u001b[39m: \u001b[38;5;28mself\u001b[39m\u001b[38;5;241m.\u001b[39m_state_cache,\n\u001b[1;32m    638\u001b[0m                 \u001b[38;5;124m\"\u001b[39m\u001b[38;5;124mprng_key\u001b[39m\u001b[38;5;124m\"\u001b[39m: _key,\n\u001b[1;32m    639\u001b[0m                 \u001b[38;5;124m\"\u001b[39m\u001b[38;5;124mmcm_method\u001b[39m\u001b[38;5;124m\"\u001b[39m: execution_config\u001b[38;5;241m.\u001b[39mmcm_config\u001b[38;5;241m.\u001b[39mmcm_method,\n\u001b[1;32m    640\u001b[0m                 \u001b[38;5;124m\"\u001b[39m\u001b[38;5;124mpostselect_mode\u001b[39m\u001b[38;5;124m\"\u001b[39m: execution_config\u001b[38;5;241m.\u001b[39mmcm_config\u001b[38;5;241m.\u001b[39mpostselect_mode,\n\u001b[1;32m    641\u001b[0m             },\n\u001b[1;32m    642\u001b[0m         )\n\u001b[1;32m    643\u001b[0m         \u001b[38;5;28;01mfor\u001b[39;00m c, _key \u001b[38;5;129;01min\u001b[39;00m \u001b[38;5;28mzip\u001b[39m(circuits, prng_keys)\n\u001b[1;32m    644\u001b[0m     )\n\u001b[1;32m    646\u001b[0m vanilla_circuits \u001b[38;5;241m=\u001b[39m convert_to_numpy_parameters(circuits)[\u001b[38;5;241m0\u001b[39m]\n\u001b[1;32m    647\u001b[0m seeds \u001b[38;5;241m=\u001b[39m \u001b[38;5;28mself\u001b[39m\u001b[38;5;241m.\u001b[39m_rng\u001b[38;5;241m.\u001b[39mintegers(\u001b[38;5;241m2\u001b[39m\u001b[38;5;241m*\u001b[39m\u001b[38;5;241m*\u001b[39m\u001b[38;5;241m31\u001b[39m \u001b[38;5;241m-\u001b[39m \u001b[38;5;241m1\u001b[39m, size\u001b[38;5;241m=\u001b[39m\u001b[38;5;28mlen\u001b[39m(vanilla_circuits))\n",
      "File \u001b[0;32m~/anaconda3/lib/python3.11/site-packages/pennylane/devices/default_qubit.py:631\u001b[0m, in \u001b[0;36m<genexpr>\u001b[0;34m(.0)\u001b[0m\n\u001b[1;32m    627\u001b[0m prng_keys \u001b[38;5;241m=\u001b[39m [\u001b[38;5;28mself\u001b[39m\u001b[38;5;241m.\u001b[39mget_prng_keys()[\u001b[38;5;241m0\u001b[39m] \u001b[38;5;28;01mfor\u001b[39;00m _ \u001b[38;5;129;01min\u001b[39;00m \u001b[38;5;28mrange\u001b[39m(\u001b[38;5;28mlen\u001b[39m(circuits))]\n\u001b[1;32m    629\u001b[0m \u001b[38;5;28;01mif\u001b[39;00m max_workers \u001b[38;5;129;01mis\u001b[39;00m \u001b[38;5;28;01mNone\u001b[39;00m:\n\u001b[1;32m    630\u001b[0m     \u001b[38;5;28;01mreturn\u001b[39;00m \u001b[38;5;28mtuple\u001b[39m(\n\u001b[0;32m--> 631\u001b[0m         _simulate_wrapper(\n\u001b[1;32m    632\u001b[0m             c,\n\u001b[1;32m    633\u001b[0m             {\n\u001b[1;32m    634\u001b[0m                 \u001b[38;5;124m\"\u001b[39m\u001b[38;5;124mrng\u001b[39m\u001b[38;5;124m\"\u001b[39m: \u001b[38;5;28mself\u001b[39m\u001b[38;5;241m.\u001b[39m_rng,\n\u001b[1;32m    635\u001b[0m                 \u001b[38;5;124m\"\u001b[39m\u001b[38;5;124mdebugger\u001b[39m\u001b[38;5;124m\"\u001b[39m: \u001b[38;5;28mself\u001b[39m\u001b[38;5;241m.\u001b[39m_debugger,\n\u001b[1;32m    636\u001b[0m                 \u001b[38;5;124m\"\u001b[39m\u001b[38;5;124minterface\u001b[39m\u001b[38;5;124m\"\u001b[39m: interface,\n\u001b[1;32m    637\u001b[0m                 \u001b[38;5;124m\"\u001b[39m\u001b[38;5;124mstate_cache\u001b[39m\u001b[38;5;124m\"\u001b[39m: \u001b[38;5;28mself\u001b[39m\u001b[38;5;241m.\u001b[39m_state_cache,\n\u001b[1;32m    638\u001b[0m                 \u001b[38;5;124m\"\u001b[39m\u001b[38;5;124mprng_key\u001b[39m\u001b[38;5;124m\"\u001b[39m: _key,\n\u001b[1;32m    639\u001b[0m                 \u001b[38;5;124m\"\u001b[39m\u001b[38;5;124mmcm_method\u001b[39m\u001b[38;5;124m\"\u001b[39m: execution_config\u001b[38;5;241m.\u001b[39mmcm_config\u001b[38;5;241m.\u001b[39mmcm_method,\n\u001b[1;32m    640\u001b[0m                 \u001b[38;5;124m\"\u001b[39m\u001b[38;5;124mpostselect_mode\u001b[39m\u001b[38;5;124m\"\u001b[39m: execution_config\u001b[38;5;241m.\u001b[39mmcm_config\u001b[38;5;241m.\u001b[39mpostselect_mode,\n\u001b[1;32m    641\u001b[0m             },\n\u001b[1;32m    642\u001b[0m         )\n\u001b[1;32m    643\u001b[0m         \u001b[38;5;28;01mfor\u001b[39;00m c, _key \u001b[38;5;129;01min\u001b[39;00m \u001b[38;5;28mzip\u001b[39m(circuits, prng_keys)\n\u001b[1;32m    644\u001b[0m     )\n\u001b[1;32m    646\u001b[0m vanilla_circuits \u001b[38;5;241m=\u001b[39m convert_to_numpy_parameters(circuits)[\u001b[38;5;241m0\u001b[39m]\n\u001b[1;32m    647\u001b[0m seeds \u001b[38;5;241m=\u001b[39m \u001b[38;5;28mself\u001b[39m\u001b[38;5;241m.\u001b[39m_rng\u001b[38;5;241m.\u001b[39mintegers(\u001b[38;5;241m2\u001b[39m\u001b[38;5;241m*\u001b[39m\u001b[38;5;241m*\u001b[39m\u001b[38;5;241m31\u001b[39m \u001b[38;5;241m-\u001b[39m \u001b[38;5;241m1\u001b[39m, size\u001b[38;5;241m=\u001b[39m\u001b[38;5;28mlen\u001b[39m(vanilla_circuits))\n",
      "File \u001b[0;32m~/anaconda3/lib/python3.11/site-packages/pennylane/devices/default_qubit.py:896\u001b[0m, in \u001b[0;36m_simulate_wrapper\u001b[0;34m(circuit, kwargs)\u001b[0m\n\u001b[1;32m    895\u001b[0m \u001b[38;5;28;01mdef\u001b[39;00m \u001b[38;5;21m_simulate_wrapper\u001b[39m(circuit, kwargs):\n\u001b[0;32m--> 896\u001b[0m     \u001b[38;5;28;01mreturn\u001b[39;00m simulate(circuit, \u001b[38;5;241m*\u001b[39m\u001b[38;5;241m*\u001b[39mkwargs)\n",
      "File \u001b[0;32m~/anaconda3/lib/python3.11/site-packages/pennylane/logging/decorators.py:61\u001b[0m, in \u001b[0;36mlog_string_debug_func.<locals>.wrapper_entry\u001b[0;34m(*args, **kwargs)\u001b[0m\n\u001b[1;32m     54\u001b[0m     s_caller \u001b[38;5;241m=\u001b[39m \u001b[38;5;124m\"\u001b[39m\u001b[38;5;124m::L\u001b[39m\u001b[38;5;124m\"\u001b[39m\u001b[38;5;241m.\u001b[39mjoin(\n\u001b[1;32m     55\u001b[0m         [\u001b[38;5;28mstr\u001b[39m(i) \u001b[38;5;28;01mfor\u001b[39;00m i \u001b[38;5;129;01min\u001b[39;00m inspect\u001b[38;5;241m.\u001b[39mgetouterframes(inspect\u001b[38;5;241m.\u001b[39mcurrentframe(), \u001b[38;5;241m2\u001b[39m)[\u001b[38;5;241m1\u001b[39m][\u001b[38;5;241m1\u001b[39m:\u001b[38;5;241m3\u001b[39m]]\n\u001b[1;32m     56\u001b[0m     )\n\u001b[1;32m     57\u001b[0m     lgr\u001b[38;5;241m.\u001b[39mdebug(\n\u001b[1;32m     58\u001b[0m         \u001b[38;5;124mf\u001b[39m\u001b[38;5;124m\"\u001b[39m\u001b[38;5;124mCalling \u001b[39m\u001b[38;5;132;01m{\u001b[39;00mf_string\u001b[38;5;132;01m}\u001b[39;00m\u001b[38;5;124m from \u001b[39m\u001b[38;5;132;01m{\u001b[39;00ms_caller\u001b[38;5;132;01m}\u001b[39;00m\u001b[38;5;124m\"\u001b[39m,\n\u001b[1;32m     59\u001b[0m         \u001b[38;5;241m*\u001b[39m\u001b[38;5;241m*\u001b[39m_debug_log_kwargs,\n\u001b[1;32m     60\u001b[0m     )\n\u001b[0;32m---> 61\u001b[0m \u001b[38;5;28;01mreturn\u001b[39;00m func(\u001b[38;5;241m*\u001b[39margs, \u001b[38;5;241m*\u001b[39m\u001b[38;5;241m*\u001b[39mkwargs)\n",
      "File \u001b[0;32m~/anaconda3/lib/python3.11/site-packages/pennylane/devices/qubit/simulate.py:379\u001b[0m, in \u001b[0;36msimulate\u001b[0;34m(circuit, debugger, state_cache, **execution_kwargs)\u001b[0m\n\u001b[1;32m    376\u001b[0m     \u001b[38;5;28;01mreturn\u001b[39;00m \u001b[38;5;28mtuple\u001b[39m(results)\n\u001b[1;32m    378\u001b[0m ops_key, meas_key \u001b[38;5;241m=\u001b[39m jax_random_split(prng_key)\n\u001b[0;32m--> 379\u001b[0m state, is_state_batched \u001b[38;5;241m=\u001b[39m get_final_state(\n\u001b[1;32m    380\u001b[0m     circuit, debugger\u001b[38;5;241m=\u001b[39mdebugger, prng_key\u001b[38;5;241m=\u001b[39mops_key, \u001b[38;5;241m*\u001b[39m\u001b[38;5;241m*\u001b[39mexecution_kwargs\n\u001b[1;32m    381\u001b[0m )\n\u001b[1;32m    382\u001b[0m \u001b[38;5;28;01mif\u001b[39;00m state_cache \u001b[38;5;129;01mis\u001b[39;00m \u001b[38;5;129;01mnot\u001b[39;00m \u001b[38;5;28;01mNone\u001b[39;00m:\n\u001b[1;32m    383\u001b[0m     state_cache[circuit\u001b[38;5;241m.\u001b[39mhash] \u001b[38;5;241m=\u001b[39m state\n",
      "File \u001b[0;32m~/anaconda3/lib/python3.11/site-packages/pennylane/logging/decorators.py:61\u001b[0m, in \u001b[0;36mlog_string_debug_func.<locals>.wrapper_entry\u001b[0;34m(*args, **kwargs)\u001b[0m\n\u001b[1;32m     54\u001b[0m     s_caller \u001b[38;5;241m=\u001b[39m \u001b[38;5;124m\"\u001b[39m\u001b[38;5;124m::L\u001b[39m\u001b[38;5;124m\"\u001b[39m\u001b[38;5;241m.\u001b[39mjoin(\n\u001b[1;32m     55\u001b[0m         [\u001b[38;5;28mstr\u001b[39m(i) \u001b[38;5;28;01mfor\u001b[39;00m i \u001b[38;5;129;01min\u001b[39;00m inspect\u001b[38;5;241m.\u001b[39mgetouterframes(inspect\u001b[38;5;241m.\u001b[39mcurrentframe(), \u001b[38;5;241m2\u001b[39m)[\u001b[38;5;241m1\u001b[39m][\u001b[38;5;241m1\u001b[39m:\u001b[38;5;241m3\u001b[39m]]\n\u001b[1;32m     56\u001b[0m     )\n\u001b[1;32m     57\u001b[0m     lgr\u001b[38;5;241m.\u001b[39mdebug(\n\u001b[1;32m     58\u001b[0m         \u001b[38;5;124mf\u001b[39m\u001b[38;5;124m\"\u001b[39m\u001b[38;5;124mCalling \u001b[39m\u001b[38;5;132;01m{\u001b[39;00mf_string\u001b[38;5;132;01m}\u001b[39;00m\u001b[38;5;124m from \u001b[39m\u001b[38;5;132;01m{\u001b[39;00ms_caller\u001b[38;5;132;01m}\u001b[39;00m\u001b[38;5;124m\"\u001b[39m,\n\u001b[1;32m     59\u001b[0m         \u001b[38;5;241m*\u001b[39m\u001b[38;5;241m*\u001b[39m_debug_log_kwargs,\n\u001b[1;32m     60\u001b[0m     )\n\u001b[0;32m---> 61\u001b[0m \u001b[38;5;28;01mreturn\u001b[39;00m func(\u001b[38;5;241m*\u001b[39margs, \u001b[38;5;241m*\u001b[39m\u001b[38;5;241m*\u001b[39mkwargs)\n",
      "File \u001b[0;32m~/anaconda3/lib/python3.11/site-packages/pennylane/devices/qubit/simulate.py:208\u001b[0m, in \u001b[0;36mget_final_state\u001b[0;34m(circuit, debugger, **execution_kwargs)\u001b[0m\n\u001b[1;32m    206\u001b[0m \u001b[38;5;28;01mif\u001b[39;00m \u001b[38;5;28misinstance\u001b[39m(op, MidMeasureMP):\n\u001b[1;32m    207\u001b[0m     prng_key, key \u001b[38;5;241m=\u001b[39m jax_random_split(prng_key)\n\u001b[0;32m--> 208\u001b[0m state \u001b[38;5;241m=\u001b[39m apply_operation(\n\u001b[1;32m    209\u001b[0m     op,\n\u001b[1;32m    210\u001b[0m     state,\n\u001b[1;32m    211\u001b[0m     is_state_batched\u001b[38;5;241m=\u001b[39mis_state_batched,\n\u001b[1;32m    212\u001b[0m     debugger\u001b[38;5;241m=\u001b[39mdebugger,\n\u001b[1;32m    213\u001b[0m     prng_key\u001b[38;5;241m=\u001b[39mkey,\n\u001b[1;32m    214\u001b[0m     tape_shots\u001b[38;5;241m=\u001b[39mcircuit\u001b[38;5;241m.\u001b[39mshots,\n\u001b[1;32m    215\u001b[0m     \u001b[38;5;241m*\u001b[39m\u001b[38;5;241m*\u001b[39mexecution_kwargs,\n\u001b[1;32m    216\u001b[0m )\n\u001b[1;32m    217\u001b[0m \u001b[38;5;66;03m# Handle postselection on mid-circuit measurements\u001b[39;00m\n\u001b[1;32m    218\u001b[0m \u001b[38;5;28;01mif\u001b[39;00m \u001b[38;5;28misinstance\u001b[39m(op, qml\u001b[38;5;241m.\u001b[39mProjector):\n",
      "File \u001b[0;32m~/anaconda3/lib/python3.11/functools.py:909\u001b[0m, in \u001b[0;36msingledispatch.<locals>.wrapper\u001b[0;34m(*args, **kw)\u001b[0m\n\u001b[1;32m    905\u001b[0m \u001b[38;5;28;01mif\u001b[39;00m \u001b[38;5;129;01mnot\u001b[39;00m args:\n\u001b[1;32m    906\u001b[0m     \u001b[38;5;28;01mraise\u001b[39;00m \u001b[38;5;167;01mTypeError\u001b[39;00m(\u001b[38;5;124mf\u001b[39m\u001b[38;5;124m'\u001b[39m\u001b[38;5;132;01m{\u001b[39;00mfuncname\u001b[38;5;132;01m}\u001b[39;00m\u001b[38;5;124m requires at least \u001b[39m\u001b[38;5;124m'\u001b[39m\n\u001b[1;32m    907\u001b[0m                     \u001b[38;5;124m'\u001b[39m\u001b[38;5;124m1 positional argument\u001b[39m\u001b[38;5;124m'\u001b[39m)\n\u001b[0;32m--> 909\u001b[0m \u001b[38;5;28;01mreturn\u001b[39;00m dispatch(args[\u001b[38;5;241m0\u001b[39m]\u001b[38;5;241m.\u001b[39m\u001b[38;5;18m__class__\u001b[39m)(\u001b[38;5;241m*\u001b[39margs, \u001b[38;5;241m*\u001b[39m\u001b[38;5;241m*\u001b[39mkw)\n",
      "File \u001b[0;32m~/anaconda3/lib/python3.11/site-packages/pennylane/devices/qubit/apply_operation.py:218\u001b[0m, in \u001b[0;36mapply_operation\u001b[0;34m(op, state, is_state_batched, debugger, **_)\u001b[0m\n\u001b[1;32m    152\u001b[0m \u001b[38;5;129m@singledispatch\u001b[39m\n\u001b[1;32m    153\u001b[0m \u001b[38;5;28;01mdef\u001b[39;00m \u001b[38;5;21mapply_operation\u001b[39m(\n\u001b[1;32m    154\u001b[0m     op: qml\u001b[38;5;241m.\u001b[39moperation\u001b[38;5;241m.\u001b[39mOperator,\n\u001b[0;32m   (...)\u001b[0m\n\u001b[1;32m    158\u001b[0m     \u001b[38;5;241m*\u001b[39m\u001b[38;5;241m*\u001b[39m_,\n\u001b[1;32m    159\u001b[0m ):\n\u001b[1;32m    160\u001b[0m \u001b[38;5;250m    \u001b[39m\u001b[38;5;124;03m\"\"\"Apply and operator to a given state.\u001b[39;00m\n\u001b[1;32m    161\u001b[0m \n\u001b[1;32m    162\u001b[0m \u001b[38;5;124;03m    Args:\u001b[39;00m\n\u001b[0;32m   (...)\u001b[0m\n\u001b[1;32m    216\u001b[0m \n\u001b[1;32m    217\u001b[0m \u001b[38;5;124;03m    \"\"\"\u001b[39;00m\n\u001b[0;32m--> 218\u001b[0m     \u001b[38;5;28;01mreturn\u001b[39;00m _apply_operation_default(op, state, is_state_batched, debugger)\n",
      "File \u001b[0;32m~/anaconda3/lib/python3.11/site-packages/pennylane/devices/qubit/apply_operation.py:228\u001b[0m, in \u001b[0;36m_apply_operation_default\u001b[0;34m(op, state, is_state_batched, debugger)\u001b[0m\n\u001b[1;32m    222\u001b[0m \u001b[38;5;250m\u001b[39m\u001b[38;5;124;03m\"\"\"The default behaviour of apply_operation, accessed through the standard dispatch\u001b[39;00m\n\u001b[1;32m    223\u001b[0m \u001b[38;5;124;03mof apply_operation, as well as conditionally in other dispatches.\"\"\"\u001b[39;00m\n\u001b[1;32m    224\u001b[0m \u001b[38;5;28;01mif\u001b[39;00m (\n\u001b[1;32m    225\u001b[0m     \u001b[38;5;28mlen\u001b[39m(op\u001b[38;5;241m.\u001b[39mwires) \u001b[38;5;241m<\u001b[39m EINSUM_OP_WIRECOUNT_PERF_THRESHOLD\n\u001b[1;32m    226\u001b[0m     \u001b[38;5;129;01mand\u001b[39;00m math\u001b[38;5;241m.\u001b[39mndim(state) \u001b[38;5;241m<\u001b[39m EINSUM_STATE_WIRECOUNT_PERF_THRESHOLD\n\u001b[1;32m    227\u001b[0m ) \u001b[38;5;129;01mor\u001b[39;00m (op\u001b[38;5;241m.\u001b[39mbatch_size \u001b[38;5;129;01mand\u001b[39;00m is_state_batched):\n\u001b[0;32m--> 228\u001b[0m     \u001b[38;5;28;01mreturn\u001b[39;00m apply_operation_einsum(op, state, is_state_batched\u001b[38;5;241m=\u001b[39mis_state_batched)\n\u001b[1;32m    229\u001b[0m \u001b[38;5;28;01mreturn\u001b[39;00m apply_operation_tensordot(op, state, is_state_batched\u001b[38;5;241m=\u001b[39mis_state_batched)\n",
      "File \u001b[0;32m~/anaconda3/lib/python3.11/site-packages/pennylane/devices/qubit/apply_operation.py:102\u001b[0m, in \u001b[0;36mapply_operation_einsum\u001b[0;34m(op, state, is_state_batched)\u001b[0m\n\u001b[1;32m     99\u001b[0m         op\u001b[38;5;241m.\u001b[39m_batch_size \u001b[38;5;241m=\u001b[39m batch_size  \u001b[38;5;66;03m# pylint:disable=protected-access\u001b[39;00m\n\u001b[1;32m    100\u001b[0m reshaped_mat \u001b[38;5;241m=\u001b[39m math\u001b[38;5;241m.\u001b[39mreshape(mat, new_mat_shape)\n\u001b[0;32m--> 102\u001b[0m \u001b[38;5;28;01mreturn\u001b[39;00m math\u001b[38;5;241m.\u001b[39meinsum(einsum_indices, reshaped_mat, state)\n",
      "File \u001b[0;32m~/anaconda3/lib/python3.11/site-packages/pennylane/math/multi_dispatch.py:557\u001b[0m, in \u001b[0;36meinsum\u001b[0;34m(indices, like, optimize, *operands)\u001b[0m\n\u001b[1;32m    554\u001b[0m operands \u001b[38;5;241m=\u001b[39m np\u001b[38;5;241m.\u001b[39mcoerce(operands, like\u001b[38;5;241m=\u001b[39mlike)\n\u001b[1;32m    555\u001b[0m \u001b[38;5;28;01mif\u001b[39;00m optimize \u001b[38;5;129;01mis\u001b[39;00m \u001b[38;5;28;01mNone\u001b[39;00m \u001b[38;5;129;01mor\u001b[39;00m like \u001b[38;5;241m==\u001b[39m \u001b[38;5;124m\"\u001b[39m\u001b[38;5;124mtorch\u001b[39m\u001b[38;5;124m\"\u001b[39m:\n\u001b[1;32m    556\u001b[0m     \u001b[38;5;66;03m# torch einsum doesn't support the optimize keyword argument\u001b[39;00m\n\u001b[0;32m--> 557\u001b[0m     \u001b[38;5;28;01mreturn\u001b[39;00m np\u001b[38;5;241m.\u001b[39meinsum(indices, \u001b[38;5;241m*\u001b[39moperands, like\u001b[38;5;241m=\u001b[39mlike)\n\u001b[1;32m    558\u001b[0m \u001b[38;5;28;01mif\u001b[39;00m like \u001b[38;5;241m==\u001b[39m \u001b[38;5;124m\"\u001b[39m\u001b[38;5;124mtensorflow\u001b[39m\u001b[38;5;124m\"\u001b[39m:\n\u001b[1;32m    559\u001b[0m     \u001b[38;5;66;03m# Unpacking and casting necessary for higher order derivatives,\u001b[39;00m\n\u001b[1;32m    560\u001b[0m     \u001b[38;5;66;03m# and avoiding implicit fp32 down-conversions.\u001b[39;00m\n\u001b[1;32m    561\u001b[0m     op1, op2 \u001b[38;5;241m=\u001b[39m operands\n",
      "File \u001b[0;32m~/anaconda3/lib/python3.11/site-packages/autoray/autoray.py:81\u001b[0m, in \u001b[0;36mdo\u001b[0;34m(fn, like, *args, **kwargs)\u001b[0m\n\u001b[1;32m     79\u001b[0m backend \u001b[38;5;241m=\u001b[39m _choose_backend(fn, args, kwargs, like\u001b[38;5;241m=\u001b[39mlike)\n\u001b[1;32m     80\u001b[0m func \u001b[38;5;241m=\u001b[39m get_lib_fn(backend, fn)\n\u001b[0;32m---> 81\u001b[0m \u001b[38;5;28;01mreturn\u001b[39;00m func(\u001b[38;5;241m*\u001b[39margs, \u001b[38;5;241m*\u001b[39m\u001b[38;5;241m*\u001b[39mkwargs)\n",
      "File \u001b[0;32m~/anaconda3/lib/python3.11/site-packages/pennylane/numpy/wrapper.py:114\u001b[0m, in \u001b[0;36mtensor_wrapper.<locals>._wrapped\u001b[0;34m(*args, **kwargs)\u001b[0m\n\u001b[1;32m    106\u001b[0m     tensor_args \u001b[38;5;241m=\u001b[39m \u001b[38;5;28mlist\u001b[39m(extract_tensors(args))\n\u001b[1;32m    108\u001b[0m     \u001b[38;5;28;01mif\u001b[39;00m tensor_args:\n\u001b[1;32m    109\u001b[0m         \u001b[38;5;66;03m# Unless the user specifies otherwise, if all tensors in the argument\u001b[39;00m\n\u001b[1;32m    110\u001b[0m         \u001b[38;5;66;03m# list are non-trainable, the output is also non-trainable.\u001b[39;00m\n\u001b[1;32m    111\u001b[0m         \u001b[38;5;66;03m# Equivalently: if any tensor is trainable, the output is also trainable.\u001b[39;00m\n\u001b[1;32m    112\u001b[0m         \u001b[38;5;66;03m# NOTE: Use of Python's ``any`` results in an infinite recursion,\u001b[39;00m\n\u001b[1;32m    113\u001b[0m         \u001b[38;5;66;03m# and I'm not sure why. Using ``np.any`` works fine.\u001b[39;00m\n\u001b[0;32m--> 114\u001b[0m         tensor_kwargs[\u001b[38;5;124m\"\u001b[39m\u001b[38;5;124mrequires_grad\u001b[39m\u001b[38;5;124m\"\u001b[39m] \u001b[38;5;241m=\u001b[39m _np\u001b[38;5;241m.\u001b[39many([i\u001b[38;5;241m.\u001b[39mrequires_grad \u001b[38;5;28;01mfor\u001b[39;00m i \u001b[38;5;129;01min\u001b[39;00m tensor_args])\n\u001b[1;32m    116\u001b[0m \u001b[38;5;66;03m# evaluate the original object\u001b[39;00m\n\u001b[1;32m    117\u001b[0m res \u001b[38;5;241m=\u001b[39m obj(\u001b[38;5;241m*\u001b[39margs, \u001b[38;5;241m*\u001b[39m\u001b[38;5;241m*\u001b[39mkwargs)\n",
      "File \u001b[0;32m~/anaconda3/lib/python3.11/site-packages/autograd/tracer.py:48\u001b[0m, in \u001b[0;36mprimitive.<locals>.f_wrapped\u001b[0;34m(*args, **kwargs)\u001b[0m\n\u001b[1;32m     46\u001b[0m     \u001b[38;5;28;01mreturn\u001b[39;00m new_box(ans, trace, node)\n\u001b[1;32m     47\u001b[0m \u001b[38;5;28;01melse\u001b[39;00m:\n\u001b[0;32m---> 48\u001b[0m     \u001b[38;5;28;01mreturn\u001b[39;00m f_raw(\u001b[38;5;241m*\u001b[39margs, \u001b[38;5;241m*\u001b[39m\u001b[38;5;241m*\u001b[39mkwargs)\n",
      "File \u001b[0;32m<__array_function__ internals>:200\u001b[0m, in \u001b[0;36many\u001b[0;34m(*args, **kwargs)\u001b[0m\n",
      "File \u001b[0;32m~/anaconda3/lib/python3.11/site-packages/numpy/core/fromnumeric.py:2333\u001b[0m, in \u001b[0;36many\u001b[0;34m(a, axis, out, keepdims, where)\u001b[0m\n\u001b[1;32m   2328\u001b[0m \u001b[38;5;28;01mdef\u001b[39;00m \u001b[38;5;21m_any_dispatcher\u001b[39m(a, axis\u001b[38;5;241m=\u001b[39m\u001b[38;5;28;01mNone\u001b[39;00m, out\u001b[38;5;241m=\u001b[39m\u001b[38;5;28;01mNone\u001b[39;00m, keepdims\u001b[38;5;241m=\u001b[39m\u001b[38;5;28;01mNone\u001b[39;00m, \u001b[38;5;241m*\u001b[39m,\n\u001b[1;32m   2329\u001b[0m                     where\u001b[38;5;241m=\u001b[39mnp\u001b[38;5;241m.\u001b[39m_NoValue):\n\u001b[1;32m   2330\u001b[0m     \u001b[38;5;28;01mreturn\u001b[39;00m (a, where, out)\n\u001b[0;32m-> 2333\u001b[0m \u001b[38;5;129m@array_function_dispatch\u001b[39m(_any_dispatcher)\n\u001b[1;32m   2334\u001b[0m \u001b[38;5;28;01mdef\u001b[39;00m \u001b[38;5;21many\u001b[39m(a, axis\u001b[38;5;241m=\u001b[39m\u001b[38;5;28;01mNone\u001b[39;00m, out\u001b[38;5;241m=\u001b[39m\u001b[38;5;28;01mNone\u001b[39;00m, keepdims\u001b[38;5;241m=\u001b[39mnp\u001b[38;5;241m.\u001b[39m_NoValue, \u001b[38;5;241m*\u001b[39m, where\u001b[38;5;241m=\u001b[39mnp\u001b[38;5;241m.\u001b[39m_NoValue):\n\u001b[1;32m   2335\u001b[0m \u001b[38;5;250m    \u001b[39m\u001b[38;5;124;03m\"\"\"\u001b[39;00m\n\u001b[1;32m   2336\u001b[0m \u001b[38;5;124;03m    Test whether any array element along a given axis evaluates to True.\u001b[39;00m\n\u001b[1;32m   2337\u001b[0m \n\u001b[0;32m   (...)\u001b[0m\n\u001b[1;32m   2421\u001b[0m \n\u001b[1;32m   2422\u001b[0m \u001b[38;5;124;03m    \"\"\"\u001b[39;00m\n\u001b[1;32m   2423\u001b[0m     \u001b[38;5;28;01mreturn\u001b[39;00m _wrapreduction(a, np\u001b[38;5;241m.\u001b[39mlogical_or, \u001b[38;5;124m'\u001b[39m\u001b[38;5;124many\u001b[39m\u001b[38;5;124m'\u001b[39m, axis, \u001b[38;5;28;01mNone\u001b[39;00m, out,\n\u001b[1;32m   2424\u001b[0m                           keepdims\u001b[38;5;241m=\u001b[39mkeepdims, where\u001b[38;5;241m=\u001b[39mwhere)\n",
      "\u001b[0;31mKeyboardInterrupt\u001b[0m: "
     ]
    }
   ],
   "source": [
    "import time\n",
    "\n",
    "gate_effect = []\n",
    "gate_time = []\n",
    "for i in range(6):\n",
    "    start = time.time()\n",
    "    res = noisy_adder(num_x=2, num_y=1, num_qbits=2+i, alpha=0.001, beta=0.001)\n",
    "    end = time.time()\n",
    "    gate_time.append(end-start)\n",
    "    beta_effect.append(res)\n",
    "gate_effect\n",
    "gate_time"
   ]
  },
  {
   "cell_type": "code",
   "execution_count": 156,
   "id": "5978999f",
   "metadata": {},
   "outputs": [
    {
     "data": {
      "text/plain": [
       "[0.1660780906677246, 30.714667081832886, 173.51804995536804, 841.124685049057]"
      ]
     },
     "execution_count": 156,
     "metadata": {},
     "output_type": "execute_result"
    }
   ],
   "source": [
    "gate_time"
   ]
  },
  {
   "cell_type": "code",
   "execution_count": 158,
   "id": "4857ec79",
   "metadata": {},
   "outputs": [
    {
     "data": {
      "text/plain": [
       "[(3, 4), (3, 7), (3, 11), (3, 16)]"
      ]
     },
     "execution_count": 158,
     "metadata": {},
     "output_type": "execute_result"
    }
   ],
   "source": [
    "gate_effect = beta_effect[-4:]\n",
    "gate_effect"
   ]
  },
  {
   "cell_type": "code",
   "execution_count": 161,
   "id": "b2dc1524",
   "metadata": {
    "scrolled": false
   },
   "outputs": [
    {
     "data": {
      "text/plain": [
       "Text(0.5, 0, 'Number of Qbits')"
      ]
     },
     "execution_count": 161,
     "metadata": {},
     "output_type": "execute_result"
    },
    {
     "data": {
      "image/png": "[encoded data removed]",
      "text/plain": [
       "<Figure size 1200x600 with 2 Axes>"
      ]
     },
     "metadata": {},
     "output_type": "display_data"
    }
   ],
   "source": [
    "plt.figure(figsize = (12,6))\n",
    "\n",
    "\n",
    "plt.subplot(121)\n",
    "plt.plot( [gate_effect[i][1] for i in range(4)], gate_time )\n",
    "plt.xlabel('Number of Gates')\n",
    "plt.ylabel('Time(s)')\n",
    "plt.title('Effect of Gate number in timing')\n",
    "\n",
    "plt.subplot(122)\n",
    "plt.plot(range(2,6), [gate_effect[i][1] for i in range(4)] )\n",
    "plt.ylabel('Number of Gates')\n",
    "plt.xlabel('Number of Qbits')\n",
    "\n",
    "\n"
   ]
  },
  {
   "cell_type": "markdown",
   "id": "0b0e3c73",
   "metadata": {},
   "source": [
    "### These graphs shows time needed to complete the computaion grows exponentially in term of number of gates. \n",
    "### The growth in number of gates is almost linear relative to the number of Qbits"
   ]
  },
  {
   "cell_type": "markdown",
   "id": "7b51bc6a",
   "metadata": {},
   "source": [
    "#### The noise caused by Z corresponds to phase flip and the noise caused by X is the bir flip error. Y is combination of both.\n",
    "#### It is possible generally to use error correction codes to reduce the effect of these errors"
   ]
  },
  {
   "cell_type": "code",
   "execution_count": null,
   "id": "5fba52c7",
   "metadata": {},
   "outputs": [],
   "source": []
  }
 ],
 "metadata": {
  "kernelspec": {
   "display_name": "Python 3 (ipykernel)",
   "language": "python",
   "name": "python3"
  },
  "language_info": {
   "codemirror_mode": {
    "name": "ipython",
    "version": 3
   },
   "file_extension": ".py",
   "mimetype": "text/x-python",
   "name": "python",
   "nbconvert_exporter": "python",
   "pygments_lexer": "ipython3",
   "version": "3.11.4"
  }
 },
 "nbformat": 4,
 "nbformat_minor": 5
}
